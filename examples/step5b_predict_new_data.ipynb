{
 "cells": [
  {
   "cell_type": "markdown",
   "metadata": {},
   "source": [
    "<a href=\"https://colab.research.google.com/github/jgraving/deepposekit/blob/master/examples/step5b_predict_new_data.ipynb\" target=\"_parent\"><img src=\"https://colab.research.google.com/assets/colab-badge.svg\" alt=\"Open In Colab\"/></a>\n"
   ]
  },
  {
   "cell_type": "markdown",
   "metadata": {},
   "source": [
    "# DeepPoseKit Step 5b - Predict on a dataset\n",
    "\n",
    "This is step 5b of the example notebooks for using DeepPoseKit. This notebook shows you how to use your trained model to predict on new data."
   ]
  },
  {
   "cell_type": "markdown",
   "metadata": {},
   "source": [
    "If you haven't already installed DeepPoseKit and downloaded the example datasets you can run the next cell"
   ]
  },
  {
   "cell_type": "code",
   "execution_count": 2,
   "metadata": {},
   "outputs": [
    {
     "name": "stdout",
     "output_type": "stream",
     "text": [
      "fatal: destination path 'deepposekit-data' already exists and is not an empty directory.\n",
      "Collecting git+https://github.com/jgraving/deepposekit-annotator\n",
      "  Cloning https://github.com/jgraving/deepposekit-annotator to /private/var/folders/st/hhx75tj167g4qfsmb3rt8r7r0000gn/T/pip-req-build-qb_bcbr0\n",
      "  Running command git clone -q https://github.com/jgraving/deepposekit-annotator /private/var/folders/st/hhx75tj167g4qfsmb3rt8r7r0000gn/T/pip-req-build-qb_bcbr0\n",
      "Requirement already satisfied (use --upgrade to upgrade): dpk-annotator==0.1.dev0 from git+https://github.com/jgraving/deepposekit-annotator in /usr/local/lib/python3.7/site-packages\n",
      "Collecting git+https://github.com/jgraving/deepposekit-annotator\n",
      "  Cloning https://github.com/jgraving/deepposekit-annotator to /private/var/folders/st/hhx75tj167g4qfsmb3rt8r7r0000gn/T/pip-req-build-mg9cafcg\n",
      "  Running command git clone -q https://github.com/jgraving/deepposekit-annotator /private/var/folders/st/hhx75tj167g4qfsmb3rt8r7r0000gn/T/pip-req-build-mg9cafcg\n",
      "Requirement already satisfied (use --upgrade to upgrade): dpk-annotator==0.1.dev0 from git+https://github.com/jgraving/deepposekit-annotator in /usr/local/lib/python3.7/site-packages\n",
      "Requirement already satisfied: numpy in /usr/local/lib/python3.7/site-packages (from dpk-annotator==0.1.dev0) (1.17.0)\n",
      "Requirement already satisfied: matplotlib in /usr/local/lib/python3.7/site-packages (from dpk-annotator==0.1.dev0) (3.1.1)\n",
      "Requirement already satisfied: pandas in /Users/jake/Library/Python/3.7/lib/python/site-packages (from dpk-annotator==0.1.dev0) (0.25.0)\n",
      "Requirement already satisfied: xlrd in /Users/jake/Library/Python/3.7/lib/python/site-packages (from dpk-annotator==0.1.dev0) (1.2.0)\n",
      "Requirement already satisfied: h5py in /usr/local/lib/python3.7/site-packages (from dpk-annotator==0.1.dev0) (2.9.0)\n",
      "Requirement already satisfied: opencv-python in /Users/jake/Library/Python/3.7/lib/python/site-packages (from dpk-annotator==0.1.dev0) (4.1.0.25)\n",
      "Requirement already satisfied: scikit-learn in /Users/jake/Library/Python/3.7/lib/python/site-packages (from dpk-annotator==0.1.dev0) (0.21.3)\n",
      "Requirement already satisfied: pyparsing!=2.0.4,!=2.1.2,!=2.1.6,>=2.0.1 in /usr/local/lib/python3.7/site-packages (from matplotlib->dpk-annotator==0.1.dev0) (2.4.2)\n",
      "Requirement already satisfied: cycler>=0.10 in /usr/local/lib/python3.7/site-packages (from matplotlib->dpk-annotator==0.1.dev0) (0.10.0)\n",
      "Requirement already satisfied: kiwisolver>=1.0.1 in /usr/local/lib/python3.7/site-packages (from matplotlib->dpk-annotator==0.1.dev0) (1.1.0)\n",
      "Requirement already satisfied: python-dateutil>=2.1 in /usr/local/lib/python3.7/site-packages (from matplotlib->dpk-annotator==0.1.dev0) (2.8.0)\n",
      "Requirement already satisfied: pytz>=2017.2 in /Users/jake/Library/Python/3.7/lib/python/site-packages (from pandas->dpk-annotator==0.1.dev0) (2019.2)\n",
      "Requirement already satisfied: six in /usr/local/lib/python3.7/site-packages (from h5py->dpk-annotator==0.1.dev0) (1.12.0)\n",
      "Requirement already satisfied: joblib>=0.11 in /Users/jake/Library/Python/3.7/lib/python/site-packages (from scikit-learn->dpk-annotator==0.1.dev0) (0.13.2)\n",
      "Requirement already satisfied: scipy>=0.17.0 in /Users/jake/Library/Python/3.7/lib/python/site-packages (from scikit-learn->dpk-annotator==0.1.dev0) (1.3.1)\n",
      "Requirement already satisfied: setuptools in /usr/local/lib/python3.7/site-packages (from kiwisolver>=1.0.1->matplotlib->dpk-annotator==0.1.dev0) (41.0.1)\n",
      "Building wheels for collected packages: dpk-annotator\n",
      "  Building wheel for dpk-annotator (setup.py) ... \u001b[?25ldone\n",
      "\u001b[?25h  Stored in directory: /private/var/folders/st/hhx75tj167g4qfsmb3rt8r7r0000gn/T/pip-ephem-wheel-cache-xzd525ew/wheels/0f/71/5b/0476551ba44d5d4e74da628c5bffdc210d6091bcd9a002e022\n",
      "Successfully built dpk-annotator\n"
     ]
    }
   ],
   "source": [
    "!git clone https://github.com/jgraving/deepposekit-data\n",
    "\n",
    "import sys\n",
    "!{sys.executable} -m pip install \\\n",
    "git+https://github.com/jgraving/deepposekit \\\n",
    "git+https://github.com/jgraving/deepposekit-annotator"
   ]
  },
  {
   "cell_type": "code",
   "execution_count": 1,
   "metadata": {
    "scrolled": true
   },
   "outputs": [
    {
     "name": "stderr",
     "output_type": "stream",
     "text": [
      "Using TensorFlow backend.\n",
      "/home/jake/.local/lib/python3.6/site-packages/tensorflow/python/framework/dtypes.py:523: FutureWarning: Passing (type, 1) or '1type' as a synonym of type is deprecated; in a future version of numpy, it will be understood as (type, (1,)) / '(1,)type'.\n",
      "  _np_qint8 = np.dtype([(\"qint8\", np.int8, 1)])\n",
      "/home/jake/.local/lib/python3.6/site-packages/tensorflow/python/framework/dtypes.py:524: FutureWarning: Passing (type, 1) or '1type' as a synonym of type is deprecated; in a future version of numpy, it will be understood as (type, (1,)) / '(1,)type'.\n",
      "  _np_quint8 = np.dtype([(\"quint8\", np.uint8, 1)])\n",
      "/home/jake/.local/lib/python3.6/site-packages/tensorflow/python/framework/dtypes.py:525: FutureWarning: Passing (type, 1) or '1type' as a synonym of type is deprecated; in a future version of numpy, it will be understood as (type, (1,)) / '(1,)type'.\n",
      "  _np_qint16 = np.dtype([(\"qint16\", np.int16, 1)])\n",
      "/home/jake/.local/lib/python3.6/site-packages/tensorflow/python/framework/dtypes.py:526: FutureWarning: Passing (type, 1) or '1type' as a synonym of type is deprecated; in a future version of numpy, it will be understood as (type, (1,)) / '(1,)type'.\n",
      "  _np_quint16 = np.dtype([(\"quint16\", np.uint16, 1)])\n",
      "/home/jake/.local/lib/python3.6/site-packages/tensorflow/python/framework/dtypes.py:527: FutureWarning: Passing (type, 1) or '1type' as a synonym of type is deprecated; in a future version of numpy, it will be understood as (type, (1,)) / '(1,)type'.\n",
      "  _np_qint32 = np.dtype([(\"qint32\", np.int32, 1)])\n",
      "/home/jake/.local/lib/python3.6/site-packages/tensorflow/python/framework/dtypes.py:532: FutureWarning: Passing (type, 1) or '1type' as a synonym of type is deprecated; in a future version of numpy, it will be understood as (type, (1,)) / '(1,)type'.\n",
      "  np_resource = np.dtype([(\"resource\", np.ubyte, 1)])\n"
     ]
    }
   ],
   "source": [
    "import numpy as np\n",
    "import matplotlib.pyplot as plt\n",
    "import cv2\n",
    "import glob\n",
    "\n",
    "from deepposekit.models import load_model\n",
    "from deepposekit import VideoReader, VideoWriter, TrainingGenerator\n",
    "\n",
    "import tqdm\n",
    "import time\n",
    "from os.path import expanduser\n",
    "try:\n",
    "    import google.colab\n",
    "    IN_COLAB = True\n",
    "except:\n",
    "    IN_COLAB = False\n",
    "\n",
    "HOME = expanduser(\"~\") if not IN_COLAB else '.'"
   ]
  },
  {
   "cell_type": "code",
   "execution_count": 2,
   "metadata": {},
   "outputs": [
    {
     "data": {
      "text/plain": [
       "['/home/jake/deepposekit-data/datasets/fly/best_model_densenet.h5',\n",
       " '/home/jake/deepposekit-data/datasets/fly/best_model_fly_densenet.h5']"
      ]
     },
     "execution_count": 2,
     "metadata": {},
     "output_type": "execute_result"
    }
   ],
   "source": [
    "models = sorted(glob.glob(HOME + '/deepposekit-data/datasets/fly/*model*.h5'))\n",
    "models"
   ]
  },
  {
   "cell_type": "markdown",
   "metadata": {},
   "source": [
    "# Load the trained model\n",
    "\n",
    "This loads the trained model into memory for making predictions"
   ]
  },
  {
   "cell_type": "code",
   "execution_count": 3,
   "metadata": {},
   "outputs": [
    {
     "name": "stderr",
     "output_type": "stream",
     "text": [
      "/home/jake/.local/lib/python3.6/site-packages/keras/engine/saving.py:292: UserWarning: No training configuration found in save file: the model was *not* compiled. Compile it manually.\n",
      "  warnings.warn('No training configuration found in save file: '\n"
     ]
    }
   ],
   "source": [
    "model = load_model(models[0])"
   ]
  },
  {
   "cell_type": "code",
   "execution_count": 4,
   "metadata": {},
   "outputs": [
    {
     "data": {
      "text/plain": [
       "['/home/jake/deepposekit-data/datasets/fly/video.avi']"
      ]
     },
     "execution_count": 4,
     "metadata": {},
     "output_type": "execute_result"
    }
   ],
   "source": [
    "videos = sorted(glob.glob(HOME + '/deepposekit-data/datasets/fly/*video.avi'))\n",
    "videos"
   ]
  },
  {
   "cell_type": "markdown",
   "metadata": {},
   "source": [
    "# Test the video\n",
    "\n",
    "Check to make sure `VideoReader` is correctly loading the video frames"
   ]
  },
  {
   "cell_type": "code",
   "execution_count": 7,
   "metadata": {},
   "outputs": [
    {
     "data": {
      "text/plain": [
       "True"
      ]
     },
     "execution_count": 7,
     "metadata": {},
     "output_type": "execute_result"
    }
   ],
   "source": [
    "reader = VideoReader(videos[0], batch_size=10, gray=True)\n",
    "frames = reader[0]\n",
    "reader.close()"
   ]
  },
  {
   "cell_type": "code",
   "execution_count": 8,
   "metadata": {},
   "outputs": [
    {
     "data": {
      "image/png": "[encoded data removed]",
      "text/plain": [
       "<Figure size 432x288 with 1 Axes>"
      ]
     },
     "metadata": {},
     "output_type": "display_data"
    }
   ],
   "source": [
    "plt.imshow(frames[0,...,0], cmap='gray')\n",
    "plt.show()"
   ]
  },
  {
   "cell_type": "markdown",
   "metadata": {},
   "source": [
    "# Makes predictions for the full video\n",
    "\n",
    "This loads batches of frames and makes predictions\n"
   ]
  },
  {
   "cell_type": "code",
   "execution_count": 9,
   "metadata": {},
   "outputs": [
    {
     "name": "stdout",
     "output_type": "stream",
     "text": [
      "338/338 [==============================] - 59s 176ms/step\n"
     ]
    },
    {
     "data": {
      "text/plain": [
       "True"
      ]
     },
     "execution_count": 9,
     "metadata": {},
     "output_type": "execute_result"
    }
   ],
   "source": [
    "reader = VideoReader(videos[0], batch_size=100, gray=True)\n",
    "predictions = model.predict_generator(reader, steps=len(reader), verbose=1)\n",
    "reader.close()"
   ]
  },
  {
   "cell_type": "markdown",
   "metadata": {},
   "source": [
    "This splits the predictions into their row coordinates (y-axis), column coordinates (x-axis), and confidence scores from each confidence map."
   ]
  },
  {
   "cell_type": "code",
   "execution_count": 9,
   "metadata": {},
   "outputs": [],
   "source": [
    "row, col, confidence = np.split(predictions, 3, -1)"
   ]
  },
  {
   "cell_type": "markdown",
   "metadata": {},
   "source": [
    "Plot the confidence scores"
   ]
  },
  {
   "cell_type": "code",
   "execution_count": null,
   "metadata": {},
   "outputs": [],
   "source": [
    "plt.hist(confidence.flatten(), bins=100)\n",
    "plt.show()"
   ]
  },
  {
   "cell_type": "markdown",
   "metadata": {},
   "source": [
    "# Save the data\n",
    "\n",
    "Once you have your predictions you can save it however you wish. Here is an example using numpy.save"
   ]
  },
  {
   "cell_type": "code",
   "execution_count": 10,
   "metadata": {},
   "outputs": [],
   "source": [
    "np.save(HOME + '/deepposekit-data/datasets/fly/predictions.npy', predictions)"
   ]
  },
  {
   "cell_type": "markdown",
   "metadata": {},
   "source": [
    "# Visualize the data\n",
    "\n",
    "This is an example of how to visualize the predicted posture data on the original video."
   ]
  },
  {
   "cell_type": "code",
   "execution_count": 11,
   "metadata": {},
   "outputs": [
    {
     "name": "stderr",
     "output_type": "stream",
     "text": [
      "/home/jake/.local/lib/python3.6/site-packages/h5py/_hl/dataset.py:313: H5pyDeprecationWarning: dataset.value has been deprecated. Use dataset[()] instead.\n",
      "  \"Use dataset[()] instead.\", H5pyDeprecationWarning)\n"
     ]
    }
   ],
   "source": [
    "annotations = sorted(glob.glob(HOME + '/deepposekit-data/datasets/fly/*annotation*.h5'))\n",
    "train_generator = TrainingGenerator(annotations[0])\n",
    "\n",
    "predictions = predictions[...,:2]\n",
    "predictions *= (160./192.)\n",
    "predictions *= 3"
   ]
  },
  {
   "cell_type": "code",
   "execution_count": 18,
   "metadata": {},
   "outputs": [
    {
     "name": "stderr",
     "output_type": "stream",
     "text": [
      "33749it [01:31, 367.99it/s]\n"
     ]
    },
    {
     "data": {
      "text/plain": [
       "True"
      ]
     },
     "execution_count": 18,
     "metadata": {},
     "output_type": "execute_result"
    }
   ],
   "source": [
    "# TODO: Turn this into a function\n",
    "cmap = plt.cm.hsv(np.linspace(0, 1, train_generator.n_keypoints))[:, :3][:, ::-1] * 255\n",
    "\n",
    "writer = VideoWriter(HOME + '/fly_posture.mp4', 'MP4V', 30.0, (160*3,160*3))\n",
    "reader = VideoReader(videos[0], batch_size=1, gray=True)\n",
    "\n",
    "for frame, coords in tqdm.tqdm(zip(reader, predictions)):\n",
    "    frame = frame[0]\n",
    "    frame = frame.copy()\n",
    "    frame = cv2.cvtColor(frame, cv2.COLOR_GRAY2BGR)\n",
    "    frame = cv2.resize(frame, (160*3, 160*3))\n",
    "    frame = cv2.bitwise_not(frame)\n",
    "    original_frame = frame.copy()\n",
    "    for idx, node in enumerate(train_generator.graph):\n",
    "        if node >= 0:\n",
    "            pt1 = coords[idx]\n",
    "            pt2 = coords[node]\n",
    "            cv2.line(frame, (pt1[0], pt1[1]), (pt2[0], pt2[1]), (0,0,255), 2, cv2.LINE_AA)\n",
    "    for idx, coord in enumerate(coords):\n",
    "        coord = coord.astype(int)\n",
    "        cv2.circle(frame, (coord[0], coord[1]), 5, tuple(cmap[idx]), -1, lineType=cv2.LINE_AA)\n",
    "        \n",
    "    writer.write(frame)\n",
    "\n",
    "writer.close()\n",
    "reader.close()"
   ]
  },
  {
   "cell_type": "code",
   "execution_count": 19,
   "metadata": {},
   "outputs": [
    {
     "data": {
      "image/png": "[encoded data removed]",
      "text/plain": [
       "<Figure size 432x288 with 1 Axes>"
      ]
     },
     "metadata": {},
     "output_type": "display_data"
    }
   ],
   "source": [
    "plt.imshow(frame[...,::-1])\n",
    "plt.show()"
   ]
  },
  {
   "cell_type": "code",
   "execution_count": null,
   "metadata": {},
   "outputs": [],
   "source": [
    "# TODO: Add code for selecting and merging new data"
   ]
  }
 ],
 "metadata": {
  "kernelspec": {
   "display_name": "Python 3",
   "language": "python",
   "name": "python3"
  },
  "language_info": {
   "codemirror_mode": {
    "name": "ipython",
    "version": 3
   },
   "file_extension": ".py",
   "mimetype": "text/x-python",
   "name": "python",
   "nbconvert_exporter": "python",
   "pygments_lexer": "ipython3",
   "version": "3.7.4"
  }
 },
 "nbformat": 4,
 "nbformat_minor": 2
}
