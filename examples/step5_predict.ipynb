{
 "cells": [
  {
   "cell_type": "code",
   "execution_count": 2,
   "metadata": {
    "scrolled": true
   },
   "outputs": [
    {
     "name": "stderr",
     "output_type": "stream",
     "text": [
      "Using TensorFlow backend.\n"
     ]
    }
   ],
   "source": [
    "import numpy as np\n",
    "import matplotlib.pyplot as plt\n",
    "import cv2\n",
    "import glob\n",
    "\n",
    "from deepposekit.models import load_model\n",
    "from deepposekit import VideoReader, VideoWriter, TrainingGenerator\n",
    "\n",
    "import time\n",
    "from os.path import expanduser\n",
    "HOME = expanduser(\"~\")"
   ]
  },
  {
   "cell_type": "code",
   "execution_count": 3,
   "metadata": {},
   "outputs": [
    {
     "data": {
      "text/plain": [
       "['/home/jake/deepposekit-data/datasets/fly/best_model_fly_densenet.h5']"
      ]
     },
     "execution_count": 3,
     "metadata": {},
     "output_type": "execute_result"
    }
   ],
   "source": [
    "models = sorted(glob.glob(HOME + '/deepposekit-data/datasets/fly/*model*.h5'))\n",
    "models"
   ]
  },
  {
   "cell_type": "code",
   "execution_count": 4,
   "metadata": {},
   "outputs": [
    {
     "name": "stderr",
     "output_type": "stream",
     "text": [
      "/home/jake/.local/lib/python3.6/site-packages/keras/engine/saving.py:292: UserWarning: No training configuration found in save file: the model was *not* compiled. Compile it manually.\n",
      "  warnings.warn('No training configuration found in save file: '\n"
     ]
    }
   ],
   "source": [
    "model = load_model(models[0])"
   ]
  },
  {
   "cell_type": "code",
   "execution_count": 5,
   "metadata": {},
   "outputs": [
    {
     "data": {
      "text/plain": [
       "['/home/jake/deepposekit-data/datasets/fly/video.avi']"
      ]
     },
     "execution_count": 5,
     "metadata": {},
     "output_type": "execute_result"
    }
   ],
   "source": [
    "videos = sorted(glob.glob(HOME + '/deepposekit-data/datasets/fly/*video.avi'))\n",
    "videos"
   ]
  },
  {
   "cell_type": "code",
   "execution_count": 15,
   "metadata": {},
   "outputs": [
    {
     "data": {
      "text/plain": [
       "True"
      ]
     },
     "execution_count": 15,
     "metadata": {},
     "output_type": "execute_result"
    }
   ],
   "source": [
    "reader = VideoReader(videos[0], batch_size=5000, gray=True)\n",
    "frames = reader[0]\n",
    "frames[frames < 50] = 0 # Threshold to match the training set from Pereira et al.\n",
    "reader.close()"
   ]
  },
  {
   "cell_type": "code",
   "execution_count": 16,
   "metadata": {},
   "outputs": [
    {
     "data": {
      "image/png": "[encoded data removed]",
      "text/plain": [
       "<Figure size 432x288 with 1 Axes>"
      ]
     },
     "metadata": {},
     "output_type": "display_data"
    }
   ],
   "source": [
    "plt.imshow(frames[0,...,0], cmap='gray')\n",
    "plt.show()"
   ]
  },
  {
   "cell_type": "code",
   "execution_count": 17,
   "metadata": {},
   "outputs": [
    {
     "name": "stdout",
     "output_type": "stream",
     "text": [
      "5000/5000 [==============================] - 8s 2ms/step\n"
     ]
    }
   ],
   "source": [
    "predictions = model.predict(frames, batch_size=100, verbose=1)\n",
    "row, col, confidence = np.split(predictions, 3, -1)"
   ]
  },
  {
   "cell_type": "code",
   "execution_count": 18,
   "metadata": {},
   "outputs": [
    {
     "name": "stdout",
     "output_type": "stream",
     "text": [
      "5000/5000 [==============================] - 14s 3ms/step\n"
     ]
    }
   ],
   "source": [
    "confidence_maps = model.train_model.predict(frames, verbose=1, batch_size=100)[-1]"
   ]
  },
  {
   "cell_type": "code",
   "execution_count": 19,
   "metadata": {},
   "outputs": [],
   "source": [
    "annotations = sorted(glob.glob(HOME + '/deepposekit-data/datasets/fly/*annotation*.h5'))\n",
    "train_generator = TrainingGenerator(annotations[0])\n",
    "\n",
    "predictions *= (160./192.)\n",
    "predictions *= 3"
   ]
  },
  {
   "cell_type": "code",
   "execution_count": 20,
   "metadata": {},
   "outputs": [
    {
     "data": {
      "text/plain": [
       "True"
      ]
     },
     "execution_count": 20,
     "metadata": {},
     "output_type": "execute_result"
    }
   ],
   "source": [
    "# TODO: Turn this into a function\n",
    "cmap = plt.cm.hsv(np.linspace(0, 1, train_generator.n_keypoints))[:, :3][:, ::-1] * 255\n",
    "cmap1 = plt.cm.hsv(np.linspace(0, 1, 7))[:, :3][:, ::-1] * 255\n",
    "\n",
    "writer = VideoWriter(HOME + '/fly_posture.mp4', 'MP4V', 30.0, (160*2*3,160*2*3))\n",
    "\n",
    "for frame, coords, conf_map in zip(frames, predictions, confidence_maps):\n",
    "    frame = frame.copy()\n",
    "    frame = cv2.cvtColor(frame, cv2.COLOR_GRAY2BGR)\n",
    "    frame = cv2.resize(frame, (160*3, 160*3))\n",
    "    frame = cv2.bitwise_not(frame)\n",
    "    original_frame = frame.copy()\n",
    "    for idx, node in enumerate(train_generator.graph):\n",
    "        if node >= 0:\n",
    "            pt1 = coords[idx]\n",
    "            pt2 = coords[node]\n",
    "            cv2.line(frame, (pt1[0], pt1[1]), (pt2[0], pt2[1]), (0,0,255), 2, cv2.LINE_AA)\n",
    "    for idx, coord in enumerate(coords):\n",
    "        coord = coord.astype(int)\n",
    "        cv2.circle(frame, (coord[0], coord[1]), 5, tuple(cmap[idx]), -1, lineType=cv2.LINE_AA)\n",
    "        \n",
    "    conf_maps_color = np.repeat(np.moveaxis(conf_map[...,train_generator.n_keypoints:train_generator.n_keypoints + train_generator.n_branches], -1, 0)[..., None], 3, axis=-1)\n",
    "    conf_maps_color /= conf_maps_color.reshape(7, -1).max(1)[:, None, None, None]\n",
    "    conf_maps_color *= np.repeat(np.repeat(cmap1[:, None, None,...], conf_map.shape[0], 1), conf_map.shape[1], 2)\n",
    "    conf_maps_color = conf_maps_color.max(0).astype(np.uint8)\n",
    "    conf_maps_color = cv2.resize(conf_maps_color, (160*3,160*3), interpolation=cv2.INTER_NEAREST)\n",
    "    top = np.concatenate((original_frame, conf_maps_color), axis=1)\n",
    "    \n",
    "    conf_maps_color = np.repeat(np.moveaxis(conf_map[...,:train_generator.n_keypoints], -1, 0)[..., None], 3, axis=-1)\n",
    "    conf_maps_color /= conf_maps_color.reshape(train_generator.n_keypoints, -1).max(1)[:, None, None, None]\n",
    "    conf_maps_color *= np.repeat(np.repeat(cmap[:, None, None,...], conf_map.shape[0], 1), conf_map.shape[1], 2)\n",
    "    conf_maps_color = conf_maps_color.max(0).astype(np.uint8)\n",
    "    conf_maps_color = cv2.resize(conf_maps_color, (160*3,160*3), interpolation=cv2.INTER_NEAREST)\n",
    "    bottom = np.concatenate((conf_maps_color, frame), axis=1)\n",
    "    frame = np.concatenate((top, bottom), axis=0)\n",
    "    writer.write(frame)\n",
    "\n",
    "writer.close()  "
   ]
  },
  {
   "cell_type": "code",
   "execution_count": 21,
   "metadata": {},
   "outputs": [
    {
     "data": {
      "image/png": "[encoded data removed]",
      "text/plain": [
       "<Figure size 432x288 with 1 Axes>"
      ]
     },
     "metadata": {},
     "output_type": "display_data"
    }
   ],
   "source": [
    "plt.imshow(frame[...,::-1])\n",
    "plt.show()"
   ]
  },
  {
   "cell_type": "code",
   "execution_count": null,
   "metadata": {},
   "outputs": [],
   "source": [
    "# TODO: Add code for selecting and merging new data"
   ]
  }
 ],
 "metadata": {
  "kernelspec": {
   "display_name": "Python 3",
   "language": "python",
   "name": "python3"
  },
  "language_info": {
   "codemirror_mode": {
    "name": "ipython",
    "version": 3
   },
   "file_extension": ".py",
   "mimetype": "text/x-python",
   "name": "python",
   "nbconvert_exporter": "python",
   "pygments_lexer": "ipython3",
   "version": "3.6.5"
  }
 },
 "nbformat": 4,
 "nbformat_minor": 2
}
