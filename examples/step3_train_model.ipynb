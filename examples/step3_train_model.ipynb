{
 "cells": [
  {
   "cell_type": "markdown",
   "metadata": {},
   "source": [
    "<a href=\"https://colab.research.google.com/github/jgraving/deepposekit/blob/master/examples/step3_train_model.ipynb\" target=\"_parent\"><img src=\"https://colab.research.google.com/assets/colab-badge.svg\" alt=\"Open In Colab\"/></a>"
   ]
  },
  {
   "cell_type": "markdown",
   "metadata": {},
   "source": [
    "# DeepPoseKit Step 3 - Train a model\n",
    "\n",
    "This is step 3 of the example notebooks for using DeepPoseKit. This notebook shows you how to use your annotated data to train a deep learning model applying data augmentation and using callbacks for logging the training process and saving the best model during training.\n",
    "\n",
    "**NOTE**: If you run into problems, you can help us improve DeepPoseKit by [opening an issue](https://github.com/jgraving/deepposekit/issues/new) or [submitting a pull request](https://help.github.com/en/articles/creating-a-pull-request-from-a-fork)\n",
    "\n",
    "If you're using Colab make sure to go to the “Runtime” dropdown menu, select “change runtime type” and select GPU in the hardware accelerator drop-down menu"
   ]
  },
  {
   "cell_type": "markdown",
   "metadata": {},
   "source": [
    "If you haven't already installed DeepPoseKit you can run the next cell"
   ]
  },
  {
   "cell_type": "code",
   "execution_count": 1,
   "metadata": {
    "scrolled": true
   },
   "outputs": [
    {
     "name": "stdout",
     "output_type": "stream",
     "text": [
      "Collecting git+https://github.com/jgraving/deepposekit\n",
      "  Cloning https://github.com/jgraving/deepposekit to /private/var/folders/st/hhx75tj167g4qfsmb3rt8r7r0000gn/T/pip-req-build-mfglvbk0\n",
      "  Running command git clone -q https://github.com/jgraving/deepposekit /private/var/folders/st/hhx75tj167g4qfsmb3rt8r7r0000gn/T/pip-req-build-mfglvbk0\n",
      "Requirement already satisfied: numpy in /Users/jake/Library/Python/3.7/lib/python/site-packages (from deepposekit==0.2.0.dev0) (1.17.2)\n",
      "Requirement already satisfied: matplotlib in /usr/local/lib/python3.7/site-packages (from deepposekit==0.2.0.dev0) (3.1.1)\n",
      "Requirement already satisfied: pandas in /Users/jake/Library/Python/3.7/lib/python/site-packages (from deepposekit==0.2.0.dev0) (0.25.0)\n",
      "Requirement already satisfied: h5py in /usr/local/lib/python3.7/site-packages (from deepposekit==0.2.0.dev0) (2.9.0)\n",
      "Requirement already satisfied: imgaug>=0.2.9 in /usr/local/lib/python3.7/site-packages (from deepposekit==0.2.0.dev0) (0.2.9)\n",
      "Requirement already satisfied: opencv-python in /Users/jake/Library/Python/3.7/lib/python/site-packages (from deepposekit==0.2.0.dev0) (4.1.1.26)\n",
      "Requirement already satisfied: cycler>=0.10 in /usr/local/lib/python3.7/site-packages (from matplotlib->deepposekit==0.2.0.dev0) (0.10.0)\n",
      "Requirement already satisfied: pyparsing!=2.0.4,!=2.1.2,!=2.1.6,>=2.0.1 in /usr/local/lib/python3.7/site-packages (from matplotlib->deepposekit==0.2.0.dev0) (2.4.2)\n",
      "Requirement already satisfied: python-dateutil>=2.1 in /usr/local/lib/python3.7/site-packages (from matplotlib->deepposekit==0.2.0.dev0) (2.8.0)\n",
      "Requirement already satisfied: kiwisolver>=1.0.1 in /usr/local/lib/python3.7/site-packages (from matplotlib->deepposekit==0.2.0.dev0) (1.1.0)\n",
      "Requirement already satisfied: pytz>=2017.2 in /Users/jake/Library/Python/3.7/lib/python/site-packages (from pandas->deepposekit==0.2.0.dev0) (2019.2)\n",
      "Requirement already satisfied: six in /usr/local/lib/python3.7/site-packages (from h5py->deepposekit==0.2.0.dev0) (1.12.0)\n",
      "Requirement already satisfied: scipy in /Users/jake/Library/Python/3.7/lib/python/site-packages (from imgaug>=0.2.9->deepposekit==0.2.0.dev0) (1.3.1)\n",
      "Requirement already satisfied: Pillow in /Users/jake/Library/Python/3.7/lib/python/site-packages (from imgaug>=0.2.9->deepposekit==0.2.0.dev0) (6.1.0)\n",
      "Requirement already satisfied: Shapely in /Users/jake/Library/Python/3.7/lib/python/site-packages (from imgaug>=0.2.9->deepposekit==0.2.0.dev0) (1.6.4.post2)\n",
      "Requirement already satisfied: imageio in /Users/jake/Library/Python/3.7/lib/python/site-packages (from imgaug>=0.2.9->deepposekit==0.2.0.dev0) (2.5.0)\n",
      "Requirement already satisfied: scikit-image>=0.11.0 in /Users/jake/Library/Python/3.7/lib/python/site-packages (from imgaug>=0.2.9->deepposekit==0.2.0.dev0) (0.15.0)\n",
      "Requirement already satisfied: setuptools in /usr/local/lib/python3.7/site-packages (from kiwisolver>=1.0.1->matplotlib->deepposekit==0.2.0.dev0) (41.0.1)\n",
      "Requirement already satisfied: networkx>=2.0 in /Users/jake/Library/Python/3.7/lib/python/site-packages (from scikit-image>=0.11.0->imgaug>=0.2.9->deepposekit==0.2.0.dev0) (2.3)\n",
      "Requirement already satisfied: PyWavelets>=0.4.0 in /Users/jake/Library/Python/3.7/lib/python/site-packages (from scikit-image>=0.11.0->imgaug>=0.2.9->deepposekit==0.2.0.dev0) (1.0.3)\n",
      "Requirement already satisfied: decorator>=4.3.0 in /usr/local/lib/python3.7/site-packages (from networkx>=2.0->scikit-image>=0.11.0->imgaug>=0.2.9->deepposekit==0.2.0.dev0) (4.4.0)\n",
      "Building wheels for collected packages: deepposekit\n",
      "  Building wheel for deepposekit (setup.py) ... \u001b[?25ldone\n",
      "\u001b[?25h  Stored in directory: /private/var/folders/st/hhx75tj167g4qfsmb3rt8r7r0000gn/T/pip-ephem-wheel-cache-l2pf4dpp/wheels/af/2f/a1/97dbc668c1928ad2c177b380a22ec38f854b19fac8399b0846\n",
      "Successfully built deepposekit\n",
      "Installing collected packages: deepposekit\n",
      "  Found existing installation: deepposekit 0.3.0.dev0\n",
      "    Uninstalling deepposekit-0.3.0.dev0:\n",
      "      Successfully uninstalled deepposekit-0.3.0.dev0\n",
      "Successfully installed deepposekit-0.2.0.dev0\n"
     ]
    }
   ],
   "source": [
    "import sys\n",
    "!{sys.executable} -m pip install git+https://github.com/jgraving/deepposekit "
   ]
  },
  {
   "cell_type": "code",
   "execution_count": 1,
   "metadata": {
    "scrolled": true
   },
   "outputs": [
    {
     "name": "stderr",
     "output_type": "stream",
     "text": [
      "/Users/jake/Library/Python/3.7/lib/python/site-packages/tensorflow/python/framework/dtypes.py:516: FutureWarning: Passing (type, 1) or '1type' as a synonym of type is deprecated; in a future version of numpy, it will be understood as (type, (1,)) / '(1,)type'.\n",
      "  _np_qint8 = np.dtype([(\"qint8\", np.int8, 1)])\n",
      "/Users/jake/Library/Python/3.7/lib/python/site-packages/tensorflow/python/framework/dtypes.py:517: FutureWarning: Passing (type, 1) or '1type' as a synonym of type is deprecated; in a future version of numpy, it will be understood as (type, (1,)) / '(1,)type'.\n",
      "  _np_quint8 = np.dtype([(\"quint8\", np.uint8, 1)])\n",
      "/Users/jake/Library/Python/3.7/lib/python/site-packages/tensorflow/python/framework/dtypes.py:518: FutureWarning: Passing (type, 1) or '1type' as a synonym of type is deprecated; in a future version of numpy, it will be understood as (type, (1,)) / '(1,)type'.\n",
      "  _np_qint16 = np.dtype([(\"qint16\", np.int16, 1)])\n",
      "/Users/jake/Library/Python/3.7/lib/python/site-packages/tensorflow/python/framework/dtypes.py:519: FutureWarning: Passing (type, 1) or '1type' as a synonym of type is deprecated; in a future version of numpy, it will be understood as (type, (1,)) / '(1,)type'.\n",
      "  _np_quint16 = np.dtype([(\"quint16\", np.uint16, 1)])\n",
      "/Users/jake/Library/Python/3.7/lib/python/site-packages/tensorflow/python/framework/dtypes.py:520: FutureWarning: Passing (type, 1) or '1type' as a synonym of type is deprecated; in a future version of numpy, it will be understood as (type, (1,)) / '(1,)type'.\n",
      "  _np_qint32 = np.dtype([(\"qint32\", np.int32, 1)])\n",
      "/Users/jake/Library/Python/3.7/lib/python/site-packages/tensorflow/python/framework/dtypes.py:525: FutureWarning: Passing (type, 1) or '1type' as a synonym of type is deprecated; in a future version of numpy, it will be understood as (type, (1,)) / '(1,)type'.\n",
      "  np_resource = np.dtype([(\"resource\", np.ubyte, 1)])\n",
      "/Users/jake/Library/Python/3.7/lib/python/site-packages/tensorboard/compat/tensorflow_stub/dtypes.py:541: FutureWarning: Passing (type, 1) or '1type' as a synonym of type is deprecated; in a future version of numpy, it will be understood as (type, (1,)) / '(1,)type'.\n",
      "  _np_qint8 = np.dtype([(\"qint8\", np.int8, 1)])\n",
      "/Users/jake/Library/Python/3.7/lib/python/site-packages/tensorboard/compat/tensorflow_stub/dtypes.py:542: FutureWarning: Passing (type, 1) or '1type' as a synonym of type is deprecated; in a future version of numpy, it will be understood as (type, (1,)) / '(1,)type'.\n",
      "  _np_quint8 = np.dtype([(\"quint8\", np.uint8, 1)])\n",
      "/Users/jake/Library/Python/3.7/lib/python/site-packages/tensorboard/compat/tensorflow_stub/dtypes.py:543: FutureWarning: Passing (type, 1) or '1type' as a synonym of type is deprecated; in a future version of numpy, it will be understood as (type, (1,)) / '(1,)type'.\n",
      "  _np_qint16 = np.dtype([(\"qint16\", np.int16, 1)])\n",
      "/Users/jake/Library/Python/3.7/lib/python/site-packages/tensorboard/compat/tensorflow_stub/dtypes.py:544: FutureWarning: Passing (type, 1) or '1type' as a synonym of type is deprecated; in a future version of numpy, it will be understood as (type, (1,)) / '(1,)type'.\n",
      "  _np_quint16 = np.dtype([(\"quint16\", np.uint16, 1)])\n",
      "/Users/jake/Library/Python/3.7/lib/python/site-packages/tensorboard/compat/tensorflow_stub/dtypes.py:545: FutureWarning: Passing (type, 1) or '1type' as a synonym of type is deprecated; in a future version of numpy, it will be understood as (type, (1,)) / '(1,)type'.\n",
      "  _np_qint32 = np.dtype([(\"qint32\", np.int32, 1)])\n",
      "/Users/jake/Library/Python/3.7/lib/python/site-packages/tensorboard/compat/tensorflow_stub/dtypes.py:550: FutureWarning: Passing (type, 1) or '1type' as a synonym of type is deprecated; in a future version of numpy, it will be understood as (type, (1,)) / '(1,)type'.\n",
      "  np_resource = np.dtype([(\"resource\", np.ubyte, 1)])\n"
     ]
    }
   ],
   "source": [
    "import tensorflow as tf\n",
    "\n",
    "import numpy as np\n",
    "import matplotlib.pyplot as plt\n",
    "import glob\n",
    "\n",
    "from deepposekit.io import TrainingGenerator, DataGenerator\n",
    "from deepposekit.augment import FlipAxis\n",
    "import imgaug.augmenters as iaa\n",
    "import imgaug as ia\n",
    "\n",
    "from deepposekit.models import (StackedDenseNet,\n",
    "                                DeepLabCut,\n",
    "                                StackedHourglass,\n",
    "                                LEAP)\n",
    "from deepposekit.models import load_model\n",
    "\n",
    "from tensorflow.keras.callbacks import ReduceLROnPlateau, EarlyStopping\n",
    "\n",
    "from deepposekit.callbacks import Logger, ModelCheckpoint\n",
    "\n",
    "\n",
    "import time\n",
    "from os.path import expanduser\n",
    "\n",
    "try:\n",
    "    import google.colab\n",
    "    IN_COLAB = True\n",
    "except:\n",
    "    IN_COLAB = False\n",
    "\n",
    "HOME = expanduser(\"~\") if not IN_COLAB else '.'"
   ]
  },
  {
   "cell_type": "markdown",
   "metadata": {},
   "source": [
    "Use the next cell to download the example data into your home directory"
   ]
  },
  {
   "cell_type": "code",
   "execution_count": 3,
   "metadata": {},
   "outputs": [
    {
     "name": "stdout",
     "output_type": "stream",
     "text": [
      "Cloning into '/Users/jake/deepposekit-data'...\n",
      "remote: Enumerating objects: 32, done.\u001b[K\n",
      "remote: Counting objects: 100% (32/32), done.\u001b[K\n",
      "remote: Compressing objects: 100% (30/30), done.\u001b[K\n",
      "remote: Total 61 (delta 13), reused 21 (delta 2), pack-reused 29\u001b[K\n",
      "Unpacking objects: 100% (61/61), done.\n"
     ]
    }
   ],
   "source": [
    "!git clone https://github.com/jgraving/deepposekit-data {HOME + '/deepposekit-data'}"
   ]
  },
  {
   "cell_type": "markdown",
   "metadata": {},
   "source": [
    "There are a few example datasets to choose from:"
   ]
  },
  {
   "cell_type": "code",
   "execution_count": 2,
   "metadata": {},
   "outputs": [
    {
     "data": {
      "text/plain": [
       "['/Users/jake/deepposekit-data/datasets/fly/example_annotation_set.h5',\n",
       " '/Users/jake/deepposekit-data/datasets/fly/annotation_data_release.h5',\n",
       " '/Users/jake/deepposekit-data/datasets/locust/annotation_data_release.h5',\n",
       " '/Users/jake/deepposekit-data/datasets/zebra/annotation_data_release.h5']"
      ]
     },
     "execution_count": 2,
     "metadata": {},
     "output_type": "execute_result"
    }
   ],
   "source": [
    "glob.glob(HOME + '/deepposekit-data/**/**/*annotation*.h5')"
   ]
  },
  {
   "cell_type": "markdown",
   "metadata": {},
   "source": [
    "# Create a `DataGenerator`\n",
    "This creates a `DataGenerator` for loading annotated data. You can also look at the doc string for more explanation:\n"
   ]
  },
  {
   "cell_type": "code",
   "execution_count": 3,
   "metadata": {},
   "outputs": [],
   "source": [
    "DataGenerator?"
   ]
  },
  {
   "cell_type": "code",
   "execution_count": 4,
   "metadata": {},
   "outputs": [
    {
     "name": "stderr",
     "output_type": "stream",
     "text": [
      "/usr/local/lib/python3.7/site-packages/h5py/_hl/dataset.py:313: H5pyDeprecationWarning: dataset.value has been deprecated. Use dataset[()] instead.\n",
      "  \"Use dataset[()] instead.\", H5pyDeprecationWarning)\n"
     ]
    }
   ],
   "source": [
    "data_generator = DataGenerator(HOME + '/deepposekit-data/datasets/fly/annotation_data_release.h5')"
   ]
  },
  {
   "cell_type": "markdown",
   "metadata": {},
   "source": [
    "Indexing the generator, e.g. `data_generator[0]` returns an image-keypoints pair, which you can then visualize. "
   ]
  },
  {
   "cell_type": "code",
   "execution_count": 5,
   "metadata": {},
   "outputs": [
    {
     "data": {
      "image/png": "[encoded data removed]",
      "text/plain": [
       "<Figure size 360x360 with 1 Axes>"
      ]
     },
     "metadata": {
      "needs_background": "light"
     },
     "output_type": "display_data"
    }
   ],
   "source": [
    "image, keypoints = data_generator[0]\n",
    "\n",
    "plt.figure(figsize=(5,5))\n",
    "image = image[0] if image.shape[-1] is 3 else image[0, ..., 0]\n",
    "cmap = None if image.shape[-1] is 3 else 'gray'\n",
    "plt.imshow(image, cmap=cmap, interpolation='none')\n",
    "for idx, jdx in enumerate(data_generator.graph):\n",
    "    if jdx > -1:\n",
    "        plt.plot(\n",
    "            [keypoints[0, idx, 0], keypoints[0, jdx, 0]],\n",
    "            [keypoints[0, idx, 1], keypoints[0, jdx, 1]],\n",
    "            'r-'\n",
    "        )\n",
    "plt.scatter(keypoints[0, :, 0], keypoints[0, :, 1], c=np.arange(data_generator.keypoints_shape[0]), s=50, cmap=plt.cm.hsv, zorder=3)\n",
    "\n",
    "plt.show()"
   ]
  },
  {
   "cell_type": "markdown",
   "metadata": {},
   "source": [
    "# Create an augmentation pipeline\n",
    "DeepPoseKit works with augmenters from the [imgaug package](https://github.com/aleju/imgaug).\n",
    "This is a short example using spatial augmentations with axis flipping and affine transforms\n",
    "See https://github.com/aleju/imgaug for more documentation on augmenters.\n",
    "\n",
    "`deepposekit.augment.FlipAxis` takes the `DataGenerator` as an argument to get the keypoint swapping information defined in the annotation set. When the images are mirrored keypoints for left and right sides are swapped to avoid \"confusing\" the model during training."
   ]
  },
  {
   "cell_type": "code",
   "execution_count": 6,
   "metadata": {},
   "outputs": [],
   "source": [
    "augmenter = []\n",
    "\n",
    "augmenter.append(FlipAxis(data_generator, axis=0))  # flip image up-down\n",
    "augmenter.append(FlipAxis(data_generator, axis=1))  # flip image left-right \n",
    "\n",
    "sometimes = []\n",
    "sometimes.append(iaa.Affine(scale={\"x\": (0.95, 1.05), \"y\": (0.95, 1.05)},\n",
    "                            translate_percent={'x': (-0.05, 0.05), 'y': (-0.05, 0.05)},\n",
    "                            shear=(-8, 8),\n",
    "                            order=ia.ALL,\n",
    "                            cval=ia.ALL,\n",
    "                            mode=ia.ALL)\n",
    "                 )\n",
    "sometimes.append(iaa.Affine(scale=(0.8, 1.2),\n",
    "                            order=ia.ALL,\n",
    "                            cval=ia.ALL)\n",
    "                 )\n",
    "augmenter.append(iaa.Sometimes(0.75, sometimes))\n",
    "augmenter.append(iaa.Affine(rotate=(-180, 180),\n",
    "                            order=ia.ALL,\n",
    "                            cval=ia.ALL)\n",
    "                 )\n",
    "augmenter = iaa.Sequential(augmenter)\n"
   ]
  },
  {
   "cell_type": "markdown",
   "metadata": {},
   "source": [
    "Load an image-keypoints pair, apply augmentation, visualize it. Rerun this cell to see multiple random augmentations."
   ]
  },
  {
   "cell_type": "code",
   "execution_count": 7,
   "metadata": {},
   "outputs": [
    {
     "data": {
      "image/png": "[encoded data removed]",
      "text/plain": [
       "<Figure size 360x360 with 1 Axes>"
      ]
     },
     "metadata": {
      "needs_background": "light"
     },
     "output_type": "display_data"
    }
   ],
   "source": [
    "image, keypoints = data_generator[0]\n",
    "image, keypoints = augmenter(images=image, keypoints=keypoints)\n",
    "plt.figure(figsize=(5,5))\n",
    "image = image[0] if image.shape[-1] is 3 else image[0, ..., 0]\n",
    "cmap = None if image.shape[-1] is 3 else 'gray'\n",
    "plt.imshow(image, cmap=cmap, interpolation='none')\n",
    "for idx, jdx in enumerate(data_generator.graph):\n",
    "    if jdx > -1:\n",
    "        plt.plot(\n",
    "            [keypoints[0, idx, 0], keypoints[0, jdx, 0]],\n",
    "            [keypoints[0, idx, 1], keypoints[0, jdx, 1]],\n",
    "            'r-'\n",
    "        )\n",
    "plt.scatter(keypoints[0, :, 0], keypoints[0, :, 1], c=np.arange(data_generator.keypoints_shape[0]), s=50, cmap=plt.cm.hsv, zorder=3)\n",
    "\n",
    "plt.show()"
   ]
  },
  {
   "cell_type": "markdown",
   "metadata": {},
   "source": [
    "# Create a `TrainingGenerator`\n",
    "This creates a `TrainingGenerator` from the `DataGenerator` for training the model with annotated data. The `TrainingGenerator` uses the `DataGenerator` to load image-keypoints pairs and then applies the augmentation and draws the confidence maps for training the model.\n",
    "\n",
    "If you're using `StackedDenseNet`, `StackedHourglass`, or `DeepLabCut` you should set `downsample_factor=2` for 1/4x outputs or `downsample_factor=3` for 1/8x outputs (1/8x is faster). Here it is set to `downsample_factor=3` to maximize speed. If you are using `LEAP` you should set the `downsample_factor=0` for 1x outputs.\n",
    "\n",
    "The `validation_split` argument defines how many training examples to use for validation during training. If your dataset is small (such as initial annotations for active learning), you can set this to `validation_split=0`, which will just use the training set for model fitting. However, when using callbacks, make sure to set `monitor=\"loss\"` instead of `monitor=\"val_loss\"`.\n",
    "\n",
    "Visualizing the outputs in the next section also works best with `downsample_factor=0`.\n",
    "\n",
    "You can also look at the doc string for more explanation:\n"
   ]
  },
  {
   "cell_type": "code",
   "execution_count": 8,
   "metadata": {},
   "outputs": [],
   "source": [
    "TrainingGenerator?"
   ]
  },
  {
   "cell_type": "code",
   "execution_count": 9,
   "metadata": {
    "scrolled": true
   },
   "outputs": [
    {
     "data": {
      "text/plain": [
       "{'n_train': 1350,\n",
       " 'n_validation': 150,\n",
       " 'validation_split': 0.1,\n",
       " 'downsample_factor': 3,\n",
       " 'output_shape': (24, 24),\n",
       " 'n_output_channels': 66,\n",
       " 'shuffle': True,\n",
       " 'sigma': 5,\n",
       " 'output_sigma': 0.625,\n",
       " 'use_graph': True,\n",
       " 'graph_scale': 1,\n",
       " 'random_seed': 1,\n",
       " 'augmenter': True,\n",
       " 'datapath': '/Users/jake/deepposekit-data/datasets/fly/annotation_data_release.h5',\n",
       " 'dataset': 'images',\n",
       " 'generator': 'DataGenerator',\n",
       " 'n_samples': 1500,\n",
       " 'image_shape': (192, 192, 1),\n",
       " 'keypoints_shape': (32, 2)}"
      ]
     },
     "execution_count": 9,
     "metadata": {},
     "output_type": "execute_result"
    }
   ],
   "source": [
    "train_generator = TrainingGenerator(generator=data_generator,\n",
    "                                    downsample_factor=3,\n",
    "                                    augmenter=augmenter,\n",
    "                                    sigma=5,\n",
    "                                    validation_split=0.1, \n",
    "                                    use_graph=True,\n",
    "                                    random_seed=1,\n",
    "                                    graph_scale=1)\n",
    "train_generator.get_config()"
   ]
  },
  {
   "cell_type": "markdown",
   "metadata": {},
   "source": [
    "# Check the `TrainingGenerator` output\n",
    "This plots the training data output from the `TrainingGenerator` to ensure that the augmentation is working and the confidence maps look good. Rerun this cell to see random augmentations. "
   ]
  },
  {
   "cell_type": "code",
   "execution_count": 10,
   "metadata": {
    "scrolled": false
   },
   "outputs": [
    {
     "data": {
      "image/png": "[encoded data removed]",
      "text/plain": [
       "<Figure size 720x720 with 4 Axes>"
      ]
     },
     "metadata": {
      "needs_background": "light"
     },
     "output_type": "display_data"
    }
   ],
   "source": [
    "n_keypoints = data_generator.keypoints_shape[0]\n",
    "batch = train_generator(batch_size=1, validation=False)[0]\n",
    "inputs = batch[0]\n",
    "outputs = batch[1]\n",
    "\n",
    "fig, ((ax1, ax2), (ax3, ax4)) = plt.subplots(2, 2, figsize=(10,10))\n",
    "ax1.set_title('image')\n",
    "ax1.imshow(inputs[0,...,0], cmap='gray', vmin=0, vmax=255)\n",
    "\n",
    "ax2.set_title('posture graph')\n",
    "ax2.imshow(outputs[0,...,n_keypoints:-1].max(-1))\n",
    "\n",
    "ax3.set_title('keypoints confidence')\n",
    "ax3.imshow(outputs[0,...,:n_keypoints].max(-1))\n",
    "\n",
    "ax4.set_title('posture graph and keypoints confidence')\n",
    "ax4.imshow(outputs[0,...,-1], vmin=0)\n",
    "plt.show()\n",
    "\n",
    "train_generator.on_epoch_end()"
   ]
  },
  {
   "cell_type": "markdown",
   "metadata": {},
   "source": [
    "# Define a model\n",
    "Here you can define a model to train with your data. You can use our `StackedDenseNet` model, `StackedHourglass` model, `DeepLabCut` model, or the `LEAP` model. The default settings for each model should work well for most datasets, but you can customize the model architecture. The `DeepLabCut` model has multiple pretrained (on ImageNet) backbones available for using transfer learning, including the original ResNet50 as well as the faster MobileNetV2 and DenseNet121. We'll select `StackedDenseNet` and set `n_stacks=1` for 1 hourglass, with `growth_rate=32` (32 filters per convolution block) for a small number of filters. Increase the `growth_rate` and/or `n_stacks` to improve model performance. `DeepLabCut` with `backbone=\"mobilenetv2\"` is also fast."
   ]
  },
  {
   "cell_type": "code",
   "execution_count": 11,
   "metadata": {},
   "outputs": [],
   "source": [
    "from deepposekit.models import DeepLabCut, StackedDenseNet, LEAP"
   ]
  },
  {
   "cell_type": "markdown",
   "metadata": {},
   "source": [
    "You can also look at the doc strings for any of the models to get more information:"
   ]
  },
  {
   "cell_type": "code",
   "execution_count": 12,
   "metadata": {},
   "outputs": [],
   "source": [
    "StackedDenseNet?"
   ]
  },
  {
   "cell_type": "code",
   "execution_count": null,
   "metadata": {},
   "outputs": [],
   "source": [
    "DeepLabCut?"
   ]
  },
  {
   "cell_type": "code",
   "execution_count": 13,
   "metadata": {},
   "outputs": [
    {
     "name": "stderr",
     "output_type": "stream",
     "text": [
      "WARNING: Logging before flag parsing goes to stderr.\n",
      "W0929 17:36:14.949466 4582966720 deprecation.py:506] From /Users/jake/Library/Python/3.7/lib/python/site-packages/tensorflow/python/ops/init_ops.py:1251: calling VarianceScaling.__init__ (from tensorflow.python.ops.init_ops) with dtype is deprecated and will be removed in a future version.\n",
      "Instructions for updating:\n",
      "Call initializer instance with the dtype argument instead of passing it to the constructor\n",
      "W0929 17:36:27.009842 4582966720 deprecation.py:323] From /Users/jake/Library/Python/3.7/lib/python/site-packages/tensorflow/python/keras/backend.py:4075: add_dispatch_support.<locals>.wrapper (from tensorflow.python.ops.array_ops) is deprecated and will be removed in a future version.\n",
      "Instructions for updating:\n",
      "Use tf.where in 2.0, which has the same broadcast rule as np.where\n"
     ]
    },
    {
     "data": {
      "text/plain": [
       "{'name': 'StackedDenseNet',\n",
       " 'n_stacks': 1,\n",
       " 'n_transitions': 6,\n",
       " 'growth_rate': 32,\n",
       " 'bottleneck_factor': 1,\n",
       " 'compression_factor': 0.5,\n",
       " 'subpixel': True,\n",
       " 'n_train': 1350,\n",
       " 'n_validation': 150,\n",
       " 'validation_split': 0.1,\n",
       " 'downsample_factor': 3,\n",
       " 'output_shape': (24, 24),\n",
       " 'n_output_channels': 66,\n",
       " 'shuffle': True,\n",
       " 'sigma': 5,\n",
       " 'output_sigma': 0.625,\n",
       " 'use_graph': True,\n",
       " 'graph_scale': 1,\n",
       " 'random_seed': 1,\n",
       " 'augmenter': True,\n",
       " 'datapath': '/Users/jake/deepposekit-data/datasets/fly/annotation_data_release.h5',\n",
       " 'dataset': 'images',\n",
       " 'generator': 'DataGenerator',\n",
       " 'n_samples': 1500,\n",
       " 'image_shape': (192, 192, 1),\n",
       " 'keypoints_shape': (32, 2)}"
      ]
     },
     "execution_count": 13,
     "metadata": {},
     "output_type": "execute_result"
    }
   ],
   "source": [
    "model = StackedDenseNet(train_generator, n_stacks=1, growth_rate=32, n_transitions=-1, pretrained=True)\n",
    "\n",
    "#model = DeepLabCut(train_generator, backbone=\"resnet50\")\n",
    "#model = DeepLabCut(train_generator, backbone=\"mobilenetv2\", alpha=0.35) # Increase alpha to improve accuracy\n",
    "#model = DeepLabCut(train_generator, backbone=\"densenet121\")\n",
    "\n",
    "#model = LEAP(train_generator)\n",
    "model.get_config()"
   ]
  },
  {
   "cell_type": "markdown",
   "metadata": {},
   "source": [
    "# Test the prediction speed\n",
    "This generates a random set of input images for the model to test how fast the model can predict keypoint locations."
   ]
  },
  {
   "cell_type": "code",
   "execution_count": 14,
   "metadata": {},
   "outputs": [
    {
     "name": "stdout",
     "output_type": "stream",
     "text": [
      "100/100 [==============================] - 8s 78ms/sample\n",
      "12.724281438885116\n"
     ]
    }
   ],
   "source": [
    "data_size = (100,) + data_generator.image_shape\n",
    "x = np.random.randint(0, 255, data_size, dtype=\"uint8\")\n",
    "t0 = time.time()\n",
    "y = model.predict(x, batch_size=10, verbose=1)\n",
    "t1 = time.time()\n",
    "print(x.shape[0] / (t1 - t0))"
   ]
  },
  {
   "cell_type": "markdown",
   "metadata": {},
   "source": [
    "# Define callbacks to enhance model training\n",
    "Here you can define callbacks to pass to the model for use during training. You can use any callbacks available in `deepposekit.callbacks` or `tensorflow.keras.callbacks`\n",
    "\n",
    "Remember, if you set `validation_split=0` for your `TrainingGenerator`, which will just use the training set for model fitting, make sure to set `monitor=\"loss\"` instead of `monitor=\"val_loss\"`.\n",
    "\n",
    "\n",
    "`Logger` evaluates the validation set (or training set if `validation_split=0` in the `TrainingGenerator`) at the end of each epoch and saves the evaluation data to a HDF5 log file (if `filepath` is set)."
   ]
  },
  {
   "cell_type": "code",
   "execution_count": 14,
   "metadata": {},
   "outputs": [],
   "source": [
    "logger = Logger(validation_batch_size=10\n",
    "    # filepath saves the logger data to a .h5 file\n",
    "    # filepath=HOME + \"/deepposekit-data/datasets/fly/log_densenet.h5\"\n",
    ")"
   ]
  },
  {
   "cell_type": "markdown",
   "metadata": {},
   "source": [
    "`ReduceLROnPlateau` automatically reduces the learning rate of the optimizer when the validation loss stops improving. This helps the model to reach a better optimum at the end of training."
   ]
  },
  {
   "cell_type": "code",
   "execution_count": 15,
   "metadata": {},
   "outputs": [],
   "source": [
    "reduce_lr = ReduceLROnPlateau(monitor=\"val_loss\", factor=0.2, verbose=1, patience=20)"
   ]
  },
  {
   "cell_type": "markdown",
   "metadata": {},
   "source": [
    "`ModelCheckpoint` automatically saves the model when the validation loss improves at the end of each epoch. This allows you to automatically save the best performing model during training, without having to evaluate the performance manually. Set `optimizer=True` if you wish to resume training from a saved model, otherwise saving and loading are faster if `optimizer=False`.\n"
   ]
  },
  {
   "cell_type": "code",
   "execution_count": 17,
   "metadata": {},
   "outputs": [],
   "source": [
    "model_checkpoint = ModelCheckpoint(\n",
    "    HOME + \"/deepposekit-data/datasets/fly/best_model_densenet.h5\",\n",
    "    monitor=\"val_loss\",\n",
    "    # monitor=\"loss\" # use if validation_split=0\n",
    "    verbose=1,\n",
    "    save_best_only=True,\n",
    "    optimizer=True, # Set this to True if you wish to resume training from a saved model\n",
    ")"
   ]
  },
  {
   "cell_type": "markdown",
   "metadata": {},
   "source": [
    "`EarlyStopping` automatically stops the training session when the validation loss stops improving for a set number of epochs, which is set with the `patience` argument. This allows you to save time when training your model if there's not more improvment."
   ]
  },
  {
   "cell_type": "code",
   "execution_count": 18,
   "metadata": {},
   "outputs": [],
   "source": [
    "early_stop = EarlyStopping(\n",
    "    monitor=\"val_loss\",\n",
    "    # monitor=\"loss\" # use if validation_split=0\n",
    "    min_delta=0.001,\n",
    "    patience=100,\n",
    "    verbose=1\n",
    ")"
   ]
  },
  {
   "cell_type": "markdown",
   "metadata": {},
   "source": [
    "Create a list of callbacks to pass to the model"
   ]
  },
  {
   "cell_type": "code",
   "execution_count": 19,
   "metadata": {},
   "outputs": [],
   "source": [
    "callbacks = [early_stop, reduce_lr, model_checkpoint, logger]"
   ]
  },
  {
   "cell_type": "markdown",
   "metadata": {},
   "source": [
    "# Fit the model\n",
    "\n",
    "This fits the model for a set number of epochs with small batches of data. If you have a small dataset initially you can set `batch_size` to a small value and manually set `steps_per_epoch` to some large value, e.g. 500, to increase the number of batches per epoch, otherwise this is automatically determined by the size of the dataset.\n",
    "\n",
    "The number of `epochs` is set to `epochs=5` for demonstration purposes. **Increase the number of epochs to train the model longer, for example `epochs=1000`**. The `EarlyStopping` callback will then automatically end training if there is no improvement. See the doc string for details:"
   ]
  },
  {
   "cell_type": "code",
   "execution_count": null,
   "metadata": {},
   "outputs": [],
   "source": [
    "model.fit?"
   ]
  },
  {
   "cell_type": "code",
   "execution_count": 20,
   "metadata": {},
   "outputs": [
    {
     "name": "stderr",
     "output_type": "stream",
     "text": [
      "/usr/local/lib/python3.7/site-packages/deepposekit/models/engine.py:135: UserWarning: \n",
      "Automatically compiling with default settings: model.compile('adam', 'mse')\n",
      "Call model.compile() manually to use non-default settings.\n",
      "\n",
      "  \"\"\"\\nAutomatically compiling with default settings: model.compile('adam', 'mse')\\n\"\"\"\n"
     ]
    },
    {
     "name": "stdout",
     "output_type": "stream",
     "text": [
      "Epoch 1/5\n",
      "269/270 [============================>.] - ETA: 0s - loss: 236.8005 - output_0_loss: 128.9632 - output_1_loss: 107.8372\n",
      "Epoch 00001: val_loss improved from inf to 184.81545, saving model to /Users/jake/deepposekit-data/datasets/fly/best_model_densenet.h5\n",
      "evaluation_metrics: \n",
      "euclidean - mean: 21.11 (0%:  0.08, 5%:  1.51, 25%:  4.29, 50%: 12.26, 75%: 32.18, 95%: 62.36, 100%: 119.84) \n",
      "confidence - mean:  0.16 (0%:  0.03, 5%:  0.04, 25%:  0.10, 50%:  0.14, 75%:  0.18, 95%:  0.34, 100%:  0.53) \n",
      "\n",
      "270/270 [==============================] - 103s 383ms/step - loss: 236.6388 - output_0_loss: 128.8693 - output_1_loss: 107.7695 - val_loss: 184.8155 - val_output_0_loss: 100.5255 - val_output_1_loss: 84.2899\n",
      "Epoch 2/5\n",
      "269/270 [============================>.] - ETA: 0s - loss: 178.0710 - output_0_loss: 99.0256 - output_1_loss: 79.0454\n",
      "Epoch 00002: val_loss improved from 184.81545 to 153.05717, saving model to /Users/jake/deepposekit-data/datasets/fly/best_model_densenet.h5\n",
      "evaluation_metrics: \n",
      "euclidean - mean:  8.07 (0%:  0.00, 5%:  0.82, 25%:  2.02, 50%:  3.67, 75%:  6.82, 95%: 35.70, 100%: 142.62) \n",
      "confidence - mean:  0.30 (0%:  0.04, 5%:  0.06, 25%:  0.21, 50%:  0.29, 75%:  0.37, 95%:  0.55, 100%:  0.69) \n",
      "\n",
      "270/270 [==============================] - 95s 351ms/step - loss: 178.0588 - output_0_loss: 99.0257 - output_1_loss: 79.0331 - val_loss: 153.0572 - val_output_0_loss: 91.8263 - val_output_1_loss: 61.2309\n",
      "Epoch 3/5\n",
      "269/270 [============================>.] - ETA: 0s - loss: 152.3506 - output_0_loss: 92.1741 - output_1_loss: 60.1765\n",
      "Epoch 00003: val_loss improved from 153.05717 to 131.58769, saving model to /Users/jake/deepposekit-data/datasets/fly/best_model_densenet.h5\n",
      "evaluation_metrics: \n",
      "euclidean - mean:  6.53 (0%:  0.04, 5%:  0.72, 25%:  1.71, 50%:  2.95, 75%:  5.15, 95%: 26.83, 100%: 118.82) \n",
      "confidence - mean:  0.44 (0%:  0.05, 5%:  0.12, 25%:  0.33, 50%:  0.46, 75%:  0.56, 95%:  0.69, 100%:  0.84) \n",
      "\n",
      "270/270 [==============================] - 94s 348ms/step - loss: 152.3161 - output_0_loss: 92.1677 - output_1_loss: 60.1485 - val_loss: 131.5877 - val_output_0_loss: 83.1952 - val_output_1_loss: 48.3925\n",
      "Epoch 4/5\n",
      "269/270 [============================>.] - ETA: 0s - loss: 137.3947 - output_0_loss: 87.3254 - output_1_loss: 50.0693\n",
      "Epoch 00004: val_loss improved from 131.58769 to 121.68636, saving model to /Users/jake/deepposekit-data/datasets/fly/best_model_densenet.h5\n",
      "evaluation_metrics: \n",
      "euclidean - mean:  5.63 (0%:  0.00, 5%:  0.70, 25%:  1.69, 50%:  2.77, 75%:  4.78, 95%: 20.89, 100%: 114.21) \n",
      "confidence - mean:  0.54 (0%:  0.09, 5%:  0.25, 25%:  0.42, 50%:  0.55, 75%:  0.65, 95%:  0.79, 100%:  1.09) \n",
      "\n",
      "270/270 [==============================] - 96s 356ms/step - loss: 137.3477 - output_0_loss: 87.3138 - output_1_loss: 50.0339 - val_loss: 121.6864 - val_output_0_loss: 79.2221 - val_output_1_loss: 42.4643\n",
      "Epoch 5/5\n",
      "269/270 [============================>.] - ETA: 0s - loss: 128.3975 - output_0_loss: 83.4165 - output_1_loss: 44.9809\n",
      "Epoch 00005: val_loss improved from 121.68636 to 114.22691, saving model to /Users/jake/deepposekit-data/datasets/fly/best_model_densenet.h5\n",
      "evaluation_metrics: \n",
      "euclidean - mean:  5.15 (0%:  0.00, 5%:  0.72, 25%:  1.61, 50%:  2.59, 75%:  4.37, 95%: 18.38, 100%: 148.61) \n",
      "confidence - mean:  0.60 (0%:  0.06, 5%:  0.28, 25%:  0.48, 50%:  0.62, 75%:  0.72, 95%:  0.84, 100%:  1.13) \n",
      "\n",
      "270/270 [==============================] - 95s 351ms/step - loss: 128.3917 - output_0_loss: 83.4208 - output_1_loss: 44.9709 - val_loss: 114.2269 - val_output_0_loss: 74.0276 - val_output_1_loss: 40.1993\n"
     ]
    }
   ],
   "source": [
    "model.fit(\n",
    "    batch_size=5,\n",
    "    validation_batch_size=10,\n",
    "    callbacks=callbacks,\n",
    "    #epochs=1000, # Increase the number of epochs to train the model longer\n",
    "    epochs=5,\n",
    "    n_workers=8,\n",
    "    steps_per_epoch=None,\n",
    ")"
   ]
  },
  {
   "cell_type": "markdown",
   "metadata": {},
   "source": [
    "# Load the model and resume training\n",
    "\n",
    "This loads the saved model and passes it the augmentation pipeline and `DataGenerator` from earlier."
   ]
  },
  {
   "cell_type": "code",
   "execution_count": 21,
   "metadata": {},
   "outputs": [
    {
     "name": "stderr",
     "output_type": "stream",
     "text": [
      "W0929 10:31:25.760160 4656326080 deprecation.py:506] From /Users/jake/Library/Python/3.7/lib/python/site-packages/tensorflow/python/ops/init_ops.py:97: calling Zeros.__init__ (from tensorflow.python.ops.init_ops) with dtype is deprecated and will be removed in a future version.\n",
      "Instructions for updating:\n",
      "Call initializer instance with the dtype argument instead of passing it to the constructor\n",
      "W0929 10:31:25.772601 4656326080 deprecation.py:506] From /Users/jake/Library/Python/3.7/lib/python/site-packages/tensorflow/python/ops/init_ops.py:97: calling GlorotUniform.__init__ (from tensorflow.python.ops.init_ops) with dtype is deprecated and will be removed in a future version.\n",
      "Instructions for updating:\n",
      "Call initializer instance with the dtype argument instead of passing it to the constructor\n",
      "W0929 10:31:25.774595 4656326080 deprecation.py:506] From /Users/jake/Library/Python/3.7/lib/python/site-packages/tensorflow/python/ops/init_ops.py:97: calling Ones.__init__ (from tensorflow.python.ops.init_ops) with dtype is deprecated and will be removed in a future version.\n",
      "Instructions for updating:\n",
      "Call initializer instance with the dtype argument instead of passing it to the constructor\n"
     ]
    }
   ],
   "source": [
    "model = load_model(\n",
    "    HOME + \"/deepposekit-data/datasets/fly/best_model_densenet.h5\",\n",
    "    augmenter=augmenter,\n",
    "    generator=data_generator,\n",
    ")"
   ]
  },
  {
   "cell_type": "markdown",
   "metadata": {},
   "source": [
    "To resume training, simply call `model.fit` again. We'll run it for another 30 `epochs`"
   ]
  },
  {
   "cell_type": "code",
   "execution_count": 22,
   "metadata": {},
   "outputs": [
    {
     "name": "stdout",
     "output_type": "stream",
     "text": [
      "Epoch 1/30\n",
      "269/270 [============================>.] - ETA: 0s - loss: 121.3339 - output_0_loss: 79.7548 - output_1_loss: 41.5791\n",
      "Epoch 00001: val_loss improved from 114.22691 to 104.32965, saving model to /Users/jake/deepposekit-data/datasets/fly/best_model_densenet.h5\n",
      "evaluation_metrics: \n",
      "euclidean - mean:  4.12 (0%:  0.04, 5%:  0.54, 25%:  1.35, 50%:  2.17, 75%:  3.65, 95%: 11.59, 100%: 143.08) \n",
      "confidence - mean:  0.58 (0%:  0.05, 5%:  0.30, 25%:  0.48, 50%:  0.60, 75%:  0.70, 95%:  0.81, 100%:  1.02) \n",
      "\n",
      "270/270 [==============================] - 106s 394ms/step - loss: 121.3312 - output_0_loss: 79.7473 - output_1_loss: 41.5839 - val_loss: 104.3296 - val_output_0_loss: 71.4908 - val_output_1_loss: 32.8388\n",
      "Epoch 2/30\n",
      "269/270 [============================>.] - ETA: 0s - loss: 114.7393 - output_0_loss: 76.2748 - output_1_loss: 38.4645\n",
      "Epoch 00002: val_loss improved from 104.32965 to 103.56771, saving model to /Users/jake/deepposekit-data/datasets/fly/best_model_densenet.h5\n",
      "evaluation_metrics: \n",
      "euclidean - mean:  3.65 (0%:  0.04, 5%:  0.57, 25%:  1.36, 50%:  2.15, 75%:  3.56, 95%: 10.40, 100%: 131.02) \n",
      "confidence - mean:  0.62 (0%:  0.06, 5%:  0.31, 25%:  0.53, 50%:  0.65, 75%:  0.74, 95%:  0.85, 100%:  1.05) \n",
      "\n",
      "270/270 [==============================] - 96s 356ms/step - loss: 114.7110 - output_0_loss: 76.2529 - output_1_loss: 38.4581 - val_loss: 103.5677 - val_output_0_loss: 70.5360 - val_output_1_loss: 33.0317\n",
      "Epoch 3/30\n",
      "269/270 [============================>.] - ETA: 0s - loss: 109.3878 - output_0_loss: 73.3077 - output_1_loss: 36.0801\n",
      "Epoch 00003: val_loss improved from 103.56771 to 98.84510, saving model to /Users/jake/deepposekit-data/datasets/fly/best_model_densenet.h5\n",
      "evaluation_metrics: \n",
      "euclidean - mean:  3.58 (0%:  0.00, 5%:  0.62, 25%:  1.49, 50%:  2.30, 75%:  3.61, 95%:  9.60, 100%: 131.56) \n",
      "confidence - mean:  0.60 (0%:  0.05, 5%:  0.29, 25%:  0.51, 50%:  0.62, 75%:  0.72, 95%:  0.84, 100%:  1.01) \n",
      "\n",
      "270/270 [==============================] - 97s 359ms/step - loss: 109.4084 - output_0_loss: 73.3226 - output_1_loss: 36.0858 - val_loss: 98.8451 - val_output_0_loss: 66.8076 - val_output_1_loss: 32.0375\n",
      "Epoch 4/30\n",
      "269/270 [============================>.] - ETA: 0s - loss: 105.6699 - output_0_loss: 71.1297 - output_1_loss: 34.5402\n",
      "Epoch 00004: val_loss improved from 98.84510 to 91.72488, saving model to /Users/jake/deepposekit-data/datasets/fly/best_model_densenet.h5\n",
      "evaluation_metrics: \n",
      "euclidean - mean:  3.18 (0%:  0.00, 5%:  0.49, 25%:  1.20, 50%:  1.95, 75%:  3.18, 95%:  9.21, 100%: 116.32) \n",
      "confidence - mean:  0.66 (0%:  0.09, 5%:  0.35, 25%:  0.55, 50%:  0.69, 75%:  0.78, 95%:  0.89, 100%:  1.09) \n",
      "\n",
      "270/270 [==============================] - 93s 344ms/step - loss: 105.6464 - output_0_loss: 71.1242 - output_1_loss: 34.5222 - val_loss: 91.7249 - val_output_0_loss: 63.3978 - val_output_1_loss: 28.3271\n",
      "Epoch 5/30\n",
      "269/270 [============================>.] - ETA: 0s - loss: 101.8896 - output_0_loss: 68.7296 - output_1_loss: 33.1599\n",
      "Epoch 00005: val_loss improved from 91.72488 to 90.23023, saving model to /Users/jake/deepposekit-data/datasets/fly/best_model_densenet.h5\n",
      "evaluation_metrics: \n",
      "euclidean - mean:  3.17 (0%:  0.04, 5%:  0.54, 25%:  1.24, 50%:  1.99, 75%:  3.15, 95%:  8.82, 100%: 111.17) \n",
      "confidence - mean:  0.63 (0%:  0.04, 5%:  0.32, 25%:  0.53, 50%:  0.65, 75%:  0.75, 95%:  0.85, 100%:  1.02) \n",
      "\n",
      "270/270 [==============================] - 94s 347ms/step - loss: 101.8560 - output_0_loss: 68.7088 - output_1_loss: 33.1471 - val_loss: 90.2302 - val_output_0_loss: 61.9606 - val_output_1_loss: 28.2696\n",
      "Epoch 6/30\n",
      "269/270 [============================>.] - ETA: 0s - loss: 98.8773 - output_0_loss: 66.7205 - output_1_loss: 32.1568\n",
      "Epoch 00006: val_loss improved from 90.23023 to 87.29301, saving model to /Users/jake/deepposekit-data/datasets/fly/best_model_densenet.h5\n",
      "evaluation_metrics: \n",
      "euclidean - mean:  3.29 (0%:  0.04, 5%:  0.54, 25%:  1.30, 50%:  2.04, 75%:  3.27, 95%:  9.18, 100%: 116.47) \n",
      "confidence - mean:  0.64 (0%:  0.07, 5%:  0.31, 25%:  0.53, 50%:  0.66, 75%:  0.76, 95%:  0.87, 100%:  1.01) \n",
      "\n",
      "270/270 [==============================] - 91s 339ms/step - loss: 98.8621 - output_0_loss: 66.7077 - output_1_loss: 32.1544 - val_loss: 87.2930 - val_output_0_loss: 59.4121 - val_output_1_loss: 27.8809\n",
      "Epoch 7/30\n",
      "269/270 [============================>.] - ETA: 0s - loss: 95.2996 - output_0_loss: 64.1218 - output_1_loss: 31.1778\n",
      "Epoch 00007: val_loss improved from 87.29301 to 83.96689, saving model to /Users/jake/deepposekit-data/datasets/fly/best_model_densenet.h5\n",
      "evaluation_metrics: \n",
      "euclidean - mean:  2.96 (0%:  0.04, 5%:  0.51, 25%:  1.20, 50%:  1.90, 75%:  3.02, 95%:  7.79, 100%: 82.75) \n",
      "confidence - mean:  0.66 (0%:  0.06, 5%:  0.36, 25%:  0.58, 50%:  0.68, 75%:  0.78, 95%:  0.88, 100%:  1.09) \n",
      "\n",
      "270/270 [==============================] - 93s 345ms/step - loss: 95.3204 - output_0_loss: 64.1223 - output_1_loss: 31.1981 - val_loss: 83.9669 - val_output_0_loss: 56.1488 - val_output_1_loss: 27.8181\n",
      "Epoch 8/30\n",
      "269/270 [============================>.] - ETA: 0s - loss: 93.3003 - output_0_loss: 62.7061 - output_1_loss: 30.5942\n",
      "Epoch 00008: val_loss improved from 83.96689 to 80.04042, saving model to /Users/jake/deepposekit-data/datasets/fly/best_model_densenet.h5\n",
      "evaluation_metrics: \n",
      "euclidean - mean:  2.83 (0%:  0.00, 5%:  0.46, 25%:  1.13, 50%:  1.81, 75%:  2.92, 95%:  7.65, 100%: 84.45) \n",
      "confidence - mean:  0.63 (0%:  0.04, 5%:  0.32, 25%:  0.53, 50%:  0.65, 75%:  0.75, 95%:  0.89, 100%:  1.18) \n",
      "\n",
      "270/270 [==============================] - 94s 347ms/step - loss: 93.3075 - output_0_loss: 62.7090 - output_1_loss: 30.5985 - val_loss: 80.0404 - val_output_0_loss: 54.2792 - val_output_1_loss: 25.7612\n",
      "Epoch 9/30\n",
      "269/270 [============================>.] - ETA: 0s - loss: 90.2262 - output_0_loss: 60.4631 - output_1_loss: 29.7631\n",
      "Epoch 00009: val_loss did not improve from 80.04042\n",
      "evaluation_metrics: \n",
      "euclidean - mean:  3.03 (0%:  0.04, 5%:  0.61, 25%:  1.36, 50%:  2.04, 75%:  3.16, 95%:  7.92, 100%: 66.43) \n",
      "confidence - mean:  0.69 (0%:  0.05, 5%:  0.33, 25%:  0.57, 50%:  0.72, 75%:  0.82, 95%:  0.94, 100%:  1.24) \n",
      "\n",
      "270/270 [==============================] - 95s 350ms/step - loss: 90.2077 - output_0_loss: 60.4527 - output_1_loss: 29.7550 - val_loss: 83.5392 - val_output_0_loss: 56.3484 - val_output_1_loss: 27.1908\n",
      "Epoch 10/30\n",
      "269/270 [============================>.] - ETA: 0s - loss: 88.3016 - output_0_loss: 59.1547 - output_1_loss: 29.1469\n",
      "Epoch 00010: val_loss improved from 80.04042 to 76.92370, saving model to /Users/jake/deepposekit-data/datasets/fly/best_model_densenet.h5\n",
      "evaluation_metrics: \n",
      "euclidean - mean:  2.80 (0%:  0.00, 5%:  0.50, 25%:  1.17, 50%:  1.86, 75%:  2.89, 95%:  7.38, 100%: 93.95) \n",
      "confidence - mean:  0.68 (0%:  0.03, 5%:  0.37, 25%:  0.58, 50%:  0.71, 75%:  0.79, 95%:  0.91, 100%:  1.09) \n",
      "\n",
      "270/270 [==============================] - 98s 364ms/step - loss: 88.2957 - output_0_loss: 59.1435 - output_1_loss: 29.1522 - val_loss: 76.9237 - val_output_0_loss: 51.9865 - val_output_1_loss: 24.9372\n",
      "Epoch 11/30\n",
      "269/270 [============================>.] - ETA: 0s - loss: 86.4064 - output_0_loss: 57.6770 - output_1_loss: 28.7294\n",
      "Epoch 00011: val_loss improved from 76.92370 to 75.83860, saving model to /Users/jake/deepposekit-data/datasets/fly/best_model_densenet.h5\n",
      "evaluation_metrics: \n",
      "euclidean - mean:  2.87 (0%:  0.04, 5%:  0.50, 25%:  1.19, 50%:  1.88, 75%:  2.93, 95%:  7.84, 100%: 90.44) \n",
      "confidence - mean:  0.67 (0%:  0.04, 5%:  0.38, 25%:  0.59, 50%:  0.69, 75%:  0.78, 95%:  0.91, 100%:  1.09) \n",
      "\n",
      "270/270 [==============================] - 109s 404ms/step - loss: 86.3987 - output_0_loss: 57.6678 - output_1_loss: 28.7310 - val_loss: 75.8386 - val_output_0_loss: 51.4909 - val_output_1_loss: 24.3477\n",
      "Epoch 12/30\n",
      "269/270 [============================>.] - ETA: 0s - loss: 84.7232 - output_0_loss: 56.4873 - output_1_loss: 28.2359\n",
      "Epoch 00012: val_loss did not improve from 75.83860\n",
      "evaluation_metrics: \n",
      "euclidean - mean:  3.00 (0%:  0.00, 5%:  0.57, 25%:  1.29, 50%:  1.98, 75%:  3.08, 95%:  8.01, 100%: 84.58) \n",
      "confidence - mean:  0.68 (0%:  0.08, 5%:  0.39, 25%:  0.59, 50%:  0.70, 75%:  0.79, 95%:  0.91, 100%:  1.10) \n",
      "\n",
      "270/270 [==============================] - 106s 392ms/step - loss: 84.8099 - output_0_loss: 56.5372 - output_1_loss: 28.2728 - val_loss: 77.3587 - val_output_0_loss: 52.2996 - val_output_1_loss: 25.0591\n"
     ]
    },
    {
     "name": "stdout",
     "output_type": "stream",
     "text": [
      "Epoch 13/30\n",
      "269/270 [============================>.] - ETA: 0s - loss: 82.8562 - output_0_loss: 54.9450 - output_1_loss: 27.9112\n",
      "Epoch 00013: val_loss improved from 75.83860 to 73.57035, saving model to /Users/jake/deepposekit-data/datasets/fly/best_model_densenet.h5\n",
      "evaluation_metrics: \n",
      "euclidean - mean:  2.72 (0%:  0.04, 5%:  0.47, 25%:  1.08, 50%:  1.73, 75%:  2.76, 95%:  7.67, 100%: 93.38) \n",
      "confidence - mean:  0.66 (0%:  0.04, 5%:  0.35, 25%:  0.57, 50%:  0.69, 75%:  0.78, 95%:  0.90, 100%:  1.04) \n",
      "\n",
      "270/270 [==============================] - 110s 406ms/step - loss: 82.8141 - output_0_loss: 54.9244 - output_1_loss: 27.8897 - val_loss: 73.5703 - val_output_0_loss: 50.0395 - val_output_1_loss: 23.5308\n",
      "Epoch 14/30\n",
      "269/270 [============================>.] - ETA: 0s - loss: 81.9819 - output_0_loss: 54.2365 - output_1_loss: 27.7454\n",
      "Epoch 00014: val_loss improved from 73.57035 to 72.85951, saving model to /Users/jake/deepposekit-data/datasets/fly/best_model_densenet.h5\n",
      "evaluation_metrics: \n",
      "euclidean - mean:  2.69 (0%:  0.04, 5%:  0.50, 25%:  1.12, 50%:  1.76, 75%:  2.76, 95%:  7.14, 100%: 93.48) \n",
      "confidence - mean:  0.67 (0%:  0.03, 5%:  0.36, 25%:  0.57, 50%:  0.69, 75%:  0.79, 95%:  0.88, 100%:  1.08) \n",
      "\n",
      "270/270 [==============================] - 107s 398ms/step - loss: 81.9849 - output_0_loss: 54.2255 - output_1_loss: 27.7594 - val_loss: 72.8595 - val_output_0_loss: 49.2806 - val_output_1_loss: 23.5789\n",
      "Epoch 15/30\n",
      "269/270 [============================>.] - ETA: 0s - loss: 79.8273 - output_0_loss: 52.7663 - output_1_loss: 27.0610\n",
      "Epoch 00015: val_loss did not improve from 72.85951\n",
      "evaluation_metrics: \n",
      "euclidean - mean:  2.84 (0%:  0.00, 5%:  0.49, 25%:  1.16, 50%:  1.82, 75%:  2.97, 95%:  7.83, 100%: 66.34) \n",
      "confidence - mean:  0.70 (0%:  0.05, 5%:  0.42, 25%:  0.61, 50%:  0.72, 75%:  0.81, 95%:  0.92, 100%:  1.08) \n",
      "\n",
      "270/270 [==============================] - 107s 398ms/step - loss: 79.8144 - output_0_loss: 52.7593 - output_1_loss: 27.0551 - val_loss: 73.2164 - val_output_0_loss: 48.5222 - val_output_1_loss: 24.6942\n",
      "Epoch 16/30\n",
      "269/270 [============================>.] - ETA: 0s - loss: 77.9953 - output_0_loss: 51.4100 - output_1_loss: 26.5853\n",
      "Epoch 00016: val_loss improved from 72.85951 to 68.68614, saving model to /Users/jake/deepposekit-data/datasets/fly/best_model_densenet.h5\n",
      "evaluation_metrics: \n",
      "euclidean - mean:  2.65 (0%:  0.00, 5%:  0.45, 25%:  1.05, 50%:  1.66, 75%:  2.66, 95%:  6.94, 100%: 93.85) \n",
      "confidence - mean:  0.70 (0%:  0.03, 5%:  0.40, 25%:  0.61, 50%:  0.72, 75%:  0.82, 95%:  0.92, 100%:  1.07) \n",
      "\n",
      "270/270 [==============================] - 105s 390ms/step - loss: 77.9791 - output_0_loss: 51.4050 - output_1_loss: 26.5741 - val_loss: 68.6861 - val_output_0_loss: 46.1730 - val_output_1_loss: 22.5131\n",
      "Epoch 17/30\n",
      "269/270 [============================>.] - ETA: 0s - loss: 77.0269 - output_0_loss: 50.5926 - output_1_loss: 26.4342\n",
      "Epoch 00017: val_loss improved from 68.68614 to 68.46759, saving model to /Users/jake/deepposekit-data/datasets/fly/best_model_densenet.h5\n",
      "evaluation_metrics: \n",
      "euclidean - mean:  2.64 (0%:  0.00, 5%:  0.50, 25%:  1.14, 50%:  1.77, 75%:  2.74, 95%:  6.67, 100%: 66.89) \n",
      "confidence - mean:  0.68 (0%:  0.03, 5%:  0.41, 25%:  0.59, 50%:  0.70, 75%:  0.80, 95%:  0.90, 100%:  1.03) \n",
      "\n",
      "270/270 [==============================] - 106s 392ms/step - loss: 77.0625 - output_0_loss: 50.6015 - output_1_loss: 26.4610 - val_loss: 68.4676 - val_output_0_loss: 46.2066 - val_output_1_loss: 22.2610\n",
      "Epoch 18/30\n",
      "269/270 [============================>.] - ETA: 0s - loss: 75.0746 - output_0_loss: 49.3482 - output_1_loss: 25.7263\n",
      "Epoch 00018: val_loss improved from 68.46759 to 66.66554, saving model to /Users/jake/deepposekit-data/datasets/fly/best_model_densenet.h5\n",
      "evaluation_metrics: \n",
      "euclidean - mean:  2.63 (0%:  0.00, 5%:  0.49, 25%:  1.12, 50%:  1.76, 75%:  2.68, 95%:  6.90, 100%: 75.52) \n",
      "confidence - mean:  0.68 (0%:  0.06, 5%:  0.41, 25%:  0.60, 50%:  0.70, 75%:  0.79, 95%:  0.90, 100%:  1.05) \n",
      "\n",
      "270/270 [==============================] - 106s 393ms/step - loss: 75.1213 - output_0_loss: 49.3692 - output_1_loss: 25.7521 - val_loss: 66.6655 - val_output_0_loss: 44.8494 - val_output_1_loss: 21.8161\n",
      "Epoch 19/30\n",
      "269/270 [============================>.] - ETA: 0s - loss: 74.1545 - output_0_loss: 48.5294 - output_1_loss: 25.6251\n",
      "Epoch 00019: val_loss improved from 66.66554 to 65.67079, saving model to /Users/jake/deepposekit-data/datasets/fly/best_model_densenet.h5\n",
      "evaluation_metrics: \n",
      "euclidean - mean:  2.54 (0%:  0.00, 5%:  0.47, 25%:  1.08, 50%:  1.69, 75%:  2.66, 95%:  6.69, 100%: 70.05) \n",
      "confidence - mean:  0.68 (0%:  0.02, 5%:  0.39, 25%:  0.58, 50%:  0.69, 75%:  0.80, 95%:  0.92, 100%:  1.08) \n",
      "\n",
      "270/270 [==============================] - 103s 382ms/step - loss: 74.1950 - output_0_loss: 48.5479 - output_1_loss: 25.6471 - val_loss: 65.6708 - val_output_0_loss: 44.0967 - val_output_1_loss: 21.5741\n",
      "Epoch 20/30\n",
      "269/270 [============================>.] - ETA: 0s - loss: 73.8800 - output_0_loss: 48.2261 - output_1_loss: 25.6539\n",
      "Epoch 00020: val_loss did not improve from 65.67079\n",
      "evaluation_metrics: \n",
      "euclidean - mean:  2.64 (0%:  0.00, 5%:  0.49, 25%:  1.15, 50%:  1.80, 75%:  2.80, 95%:  6.77, 100%: 67.13) \n",
      "confidence - mean:  0.67 (0%:  0.03, 5%:  0.37, 25%:  0.58, 50%:  0.69, 75%:  0.78, 95%:  0.89, 100%:  1.04) \n",
      "\n",
      "270/270 [==============================] - 98s 362ms/step - loss: 73.8092 - output_0_loss: 48.1856 - output_1_loss: 25.6236 - val_loss: 66.8742 - val_output_0_loss: 44.1371 - val_output_1_loss: 22.7371\n",
      "Epoch 21/30\n",
      "269/270 [============================>.] - ETA: 0s - loss: 72.7247 - output_0_loss: 47.4421 - output_1_loss: 25.2826\n",
      "Epoch 00021: val_loss improved from 65.67079 to 65.19596, saving model to /Users/jake/deepposekit-data/datasets/fly/best_model_densenet.h5\n",
      "evaluation_metrics: \n",
      "euclidean - mean:  2.68 (0%:  0.00, 5%:  0.51, 25%:  1.18, 50%:  1.81, 75%:  2.74, 95%:  6.75, 100%: 66.62) \n",
      "confidence - mean:  0.70 (0%:  0.04, 5%:  0.42, 25%:  0.61, 50%:  0.72, 75%:  0.81, 95%:  0.92, 100%:  1.08) \n",
      "\n",
      "270/270 [==============================] - 104s 384ms/step - loss: 72.7021 - output_0_loss: 47.4286 - output_1_loss: 25.2735 - val_loss: 65.1960 - val_output_0_loss: 43.2573 - val_output_1_loss: 21.9387\n",
      "Epoch 22/30\n",
      "269/270 [============================>.] - ETA: 0s - loss: 72.0689 - output_0_loss: 46.9591 - output_1_loss: 25.1099\n",
      "Epoch 00022: val_loss did not improve from 65.19596\n",
      "evaluation_metrics: \n",
      "euclidean - mean:  2.84 (0%:  0.00, 5%:  0.58, 25%:  1.34, 50%:  2.04, 75%:  3.01, 95%:  7.23, 100%: 65.04) \n",
      "confidence - mean:  0.69 (0%:  0.03, 5%:  0.39, 25%:  0.61, 50%:  0.71, 75%:  0.80, 95%:  0.90, 100%:  1.08) \n",
      "\n",
      "270/270 [==============================] - 104s 384ms/step - loss: 72.0844 - output_0_loss: 46.9678 - output_1_loss: 25.1167 - val_loss: 68.0890 - val_output_0_loss: 44.2231 - val_output_1_loss: 23.8659\n",
      "Epoch 23/30\n",
      "269/270 [============================>.] - ETA: 0s - loss: 70.7109 - output_0_loss: 46.0735 - output_1_loss: 24.6373\n",
      "Epoch 00023: val_loss improved from 65.19596 to 62.65193, saving model to /Users/jake/deepposekit-data/datasets/fly/best_model_densenet.h5\n",
      "evaluation_metrics: \n",
      "euclidean - mean:  2.49 (0%:  0.04, 5%:  0.46, 25%:  1.08, 50%:  1.68, 75%:  2.53, 95%:  6.39, 100%: 64.21) \n",
      "confidence - mean:  0.68 (0%:  0.02, 5%:  0.39, 25%:  0.60, 50%:  0.70, 75%:  0.79, 95%:  0.89, 100%:  1.09) \n",
      "\n",
      "270/270 [==============================] - 107s 397ms/step - loss: 70.7030 - output_0_loss: 46.0712 - output_1_loss: 24.6318 - val_loss: 62.6519 - val_output_0_loss: 41.6648 - val_output_1_loss: 20.9871\n",
      "Epoch 24/30\n",
      "269/270 [============================>.] - ETA: 0s - loss: 70.1915 - output_0_loss: 45.5399 - output_1_loss: 24.6516\n",
      "Epoch 00024: val_loss improved from 62.65193 to 59.95037, saving model to /Users/jake/deepposekit-data/datasets/fly/best_model_densenet.h5\n",
      "evaluation_metrics: \n",
      "euclidean - mean:  2.46 (0%:  0.01, 5%:  0.43, 25%:  1.05, 50%:  1.64, 75%:  2.51, 95%:  6.49, 100%: 66.71) \n",
      "confidence - mean:  0.69 (0%:  0.03, 5%:  0.41, 25%:  0.60, 50%:  0.71, 75%:  0.80, 95%:  0.92, 100%:  1.07) \n",
      "\n",
      "270/270 [==============================] - 109s 405ms/step - loss: 70.1783 - output_0_loss: 45.5349 - output_1_loss: 24.6434 - val_loss: 59.9504 - val_output_0_loss: 40.0507 - val_output_1_loss: 19.8996\n"
     ]
    },
    {
     "name": "stdout",
     "output_type": "stream",
     "text": [
      "Epoch 25/30\n",
      "269/270 [============================>.] - ETA: 0s - loss: 69.9028 - output_0_loss: 45.3226 - output_1_loss: 24.5803\n",
      "Epoch 00025: val_loss did not improve from 59.95037\n",
      "evaluation_metrics: \n",
      "euclidean - mean:  2.45 (0%:  0.00, 5%:  0.43, 25%:  1.02, 50%:  1.58, 75%:  2.47, 95%:  6.38, 100%: 92.61) \n",
      "confidence - mean:  0.70 (0%:  0.04, 5%:  0.42, 25%:  0.61, 50%:  0.72, 75%:  0.81, 95%:  0.93, 100%:  1.08) \n",
      "\n",
      "270/270 [==============================] - 107s 398ms/step - loss: 69.8766 - output_0_loss: 45.3138 - output_1_loss: 24.5628 - val_loss: 60.1880 - val_output_0_loss: 40.1136 - val_output_1_loss: 20.0744\n",
      "Epoch 26/30\n",
      "269/270 [============================>.] - ETA: 0s - loss: 68.6631 - output_0_loss: 44.4764 - output_1_loss: 24.1867\n",
      "Epoch 00026: val_loss improved from 59.95037 to 59.24072, saving model to /Users/jake/deepposekit-data/datasets/fly/best_model_densenet.h5\n",
      "evaluation_metrics: \n",
      "euclidean - mean:  2.48 (0%:  0.00, 5%:  0.47, 25%:  1.09, 50%:  1.68, 75%:  2.55, 95%:  6.42, 100%: 71.65) \n",
      "confidence - mean:  0.70 (0%:  0.04, 5%:  0.42, 25%:  0.61, 50%:  0.71, 75%:  0.81, 95%:  0.92, 100%:  1.05) \n",
      "\n",
      "270/270 [==============================] - 102s 377ms/step - loss: 68.6722 - output_0_loss: 44.4834 - output_1_loss: 24.1887 - val_loss: 59.2407 - val_output_0_loss: 38.8792 - val_output_1_loss: 20.3615\n",
      "Epoch 27/30\n",
      "269/270 [============================>.] - ETA: 0s - loss: 68.3496 - output_0_loss: 44.1385 - output_1_loss: 24.2110\n",
      "Epoch 00027: val_loss did not improve from 59.24072\n",
      "evaluation_metrics: \n",
      "euclidean - mean:  2.61 (0%:  0.04, 5%:  0.56, 25%:  1.22, 50%:  1.82, 75%:  2.71, 95%:  6.43, 100%: 93.65) \n",
      "confidence - mean:  0.68 (0%:  0.03, 5%:  0.41, 25%:  0.60, 50%:  0.70, 75%:  0.79, 95%:  0.90, 100%:  1.02) \n",
      "\n",
      "270/270 [==============================] - 97s 360ms/step - loss: 68.3302 - output_0_loss: 44.1242 - output_1_loss: 24.2060 - val_loss: 60.5854 - val_output_0_loss: 39.1089 - val_output_1_loss: 21.4766\n",
      "Epoch 28/30\n",
      "269/270 [============================>.] - ETA: 0s - loss: 67.0157 - output_0_loss: 43.2211 - output_1_loss: 23.7946\n",
      "Epoch 00028: val_loss improved from 59.24072 to 58.14435, saving model to /Users/jake/deepposekit-data/datasets/fly/best_model_densenet.h5\n",
      "evaluation_metrics: \n",
      "euclidean - mean:  2.39 (0%:  0.03, 5%:  0.43, 25%:  1.02, 50%:  1.61, 75%:  2.45, 95%:  6.24, 100%: 92.85) \n",
      "confidence - mean:  0.70 (0%:  0.06, 5%:  0.42, 25%:  0.62, 50%:  0.72, 75%:  0.82, 95%:  0.92, 100%:  1.11) \n",
      "\n",
      "270/270 [==============================] - 100s 369ms/step - loss: 67.0459 - output_0_loss: 43.2485 - output_1_loss: 23.7974 - val_loss: 58.1444 - val_output_0_loss: 38.6342 - val_output_1_loss: 19.5102\n",
      "Epoch 29/30\n",
      "269/270 [============================>.] - ETA: 0s - loss: 66.8682 - output_0_loss: 43.0885 - output_1_loss: 23.7797\n",
      "Epoch 00029: val_loss did not improve from 58.14435\n",
      "evaluation_metrics: \n",
      "euclidean - mean:  2.63 (0%:  0.00, 5%:  0.51, 25%:  1.18, 50%:  1.81, 75%:  2.73, 95%:  6.50, 100%: 66.95) \n",
      "confidence - mean:  0.71 (0%:  0.04, 5%:  0.44, 25%:  0.62, 50%:  0.72, 75%:  0.81, 95%:  0.95, 100%:  1.08) \n",
      "\n",
      "270/270 [==============================] - 106s 391ms/step - loss: 66.8713 - output_0_loss: 43.0946 - output_1_loss: 23.7767 - val_loss: 58.9094 - val_output_0_loss: 38.2140 - val_output_1_loss: 20.6954\n",
      "Epoch 30/30\n",
      "269/270 [============================>.] - ETA: 0s - loss: 66.4804 - output_0_loss: 42.7867 - output_1_loss: 23.6936\n",
      "Epoch 00030: val_loss improved from 58.14435 to 56.56964, saving model to /Users/jake/deepposekit-data/datasets/fly/best_model_densenet.h5\n",
      "evaluation_metrics: \n",
      "euclidean - mean:  2.44 (0%:  0.04, 5%:  0.45, 25%:  1.07, 50%:  1.65, 75%:  2.49, 95%:  6.40, 100%: 66.71) \n",
      "confidence - mean:  0.70 (0%:  0.02, 5%:  0.43, 25%:  0.61, 50%:  0.71, 75%:  0.80, 95%:  0.93, 100%:  1.07) \n",
      "\n",
      "270/270 [==============================] - 100s 371ms/step - loss: 66.4605 - output_0_loss: 42.7720 - output_1_loss: 23.6885 - val_loss: 56.5696 - val_output_0_loss: 37.1893 - val_output_1_loss: 19.3804\n"
     ]
    }
   ],
   "source": [
    "model.fit(\n",
    "    batch_size=5,\n",
    "    validation_batch_size=10,\n",
    "    callbacks=callbacks,\n",
    "    epochs=30,\n",
    "    n_workers=8,\n",
    "    steps_per_epoch=None,\n",
    ")"
   ]
  }
 ],
 "metadata": {
  "kernelspec": {
   "display_name": "Python 3",
   "language": "python",
   "name": "python3"
  },
  "language_info": {
   "codemirror_mode": {
    "name": "ipython",
    "version": 3
   },
   "file_extension": ".py",
   "mimetype": "text/x-python",
   "name": "python",
   "nbconvert_exporter": "python",
   "pygments_lexer": "ipython3",
   "version": "3.7.4"
  }
 },
 "nbformat": 4,
 "nbformat_minor": 2
}
