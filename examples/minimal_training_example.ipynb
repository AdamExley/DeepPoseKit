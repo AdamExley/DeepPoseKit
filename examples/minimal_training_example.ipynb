{
 "cells": [
  {
   "cell_type": "code",
   "execution_count": 2,
   "metadata": {
    "scrolled": true
   },
   "outputs": [
    {
     "name": "stderr",
     "output_type": "stream",
     "text": [
      "Using TensorFlow backend.\n"
     ]
    }
   ],
   "source": [
    "from deepposekit import TrainingGenerator\n",
    "from deepposekit.models import StackedDenseNet\n",
    "from deepposekit.models import load_model\n",
    "from deepposekit import VideoReader\n",
    "\n",
    "import numpy as np\n",
    "\n",
    "from os.path import expanduser\n",
    "HOME = expanduser(\"~\")"
   ]
  },
  {
   "cell_type": "markdown",
   "metadata": {},
   "source": [
    "# Train the model"
   ]
  },
  {
   "cell_type": "code",
   "execution_count": 3,
   "metadata": {
    "scrolled": true
   },
   "outputs": [
    {
     "name": "stdout",
     "output_type": "stream",
     "text": [
      "Epoch 1/1\n",
      "84/84 [==============================] - 36s 432ms/step - loss: 62.7385 - val_loss: 40.1294\n"
     ]
    }
   ],
   "source": [
    "train_generator = TrainingGenerator(HOME + '/deepposekit-data/datasets/fly/annotation_data_release.h5')\n",
    "model = StackedDenseNet(train_generator)\n",
    "model.compile('adam', 'mse')\n",
    "model.fit(batch_size=16, n_workers=8)\n",
    "model.save(HOME + 'model.h5')"
   ]
  },
  {
   "cell_type": "markdown",
   "metadata": {},
   "source": [
    "# Load the model and make predictions"
   ]
  },
  {
   "cell_type": "code",
   "execution_count": 4,
   "metadata": {},
   "outputs": [],
   "source": [
    "model = load_model(HOME + 'model.h5')\n",
    "reader = VideoReader(HOME + '/deepposekit-data/datasets/fly/video.avi',\n",
    "                     batch_size=100,\n",
    "                     gray=True)\n",
    "new_data = reader[0]\n",
    "predictions = model.predict(new_data)\n",
    "row, col, confidence = np.split(predictions, 3, -1)"
   ]
  }
 ],
 "metadata": {
  "kernelspec": {
   "display_name": "Python 3",
   "language": "python",
   "name": "python3"
  },
  "language_info": {
   "codemirror_mode": {
    "name": "ipython",
    "version": 3
   },
   "file_extension": ".py",
   "mimetype": "text/x-python",
   "name": "python",
   "nbconvert_exporter": "python",
   "pygments_lexer": "ipython3",
   "version": "3.6.5"
  }
 },
 "nbformat": 4,
 "nbformat_minor": 2
}
